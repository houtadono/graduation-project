{
 "cells": [
  {
   "cell_type": "code",
   "execution_count": 1,
   "metadata": {},
   "outputs": [],
   "source": [
    "from IPython.core.interactiveshell import InteractiveShell\n",
    "InteractiveShell.ast_node_interactivity = \"all\""
   ]
  },
  {
   "cell_type": "code",
   "execution_count": 2,
   "metadata": {},
   "outputs": [
    {
     "name": "stderr",
     "output_type": "stream",
     "text": [
      "d:\\DoAn\\.venv\\Lib\\site-packages\\torchdata\\datapipes\\__init__.py:18: UserWarning: \n",
      "################################################################################\n",
      "WARNING!\n",
      "The 'datapipes', 'dataloader2' modules are deprecated and will be removed in a\n",
      "future torchdata release! Please see https://github.com/pytorch/data/issues/1196\n",
      "to learn more and leave feedback.\n",
      "################################################################################\n",
      "\n",
      "  deprecation_warning()\n"
     ]
    }
   ],
   "source": [
    "import dgl.nn as dglnn\n",
    "import dgl\n",
    "from dgl import from_networkx\n",
    "import torch.nn as nn\n",
    "import torch as th\n",
    "import torch.nn.functional as F\n",
    "import dgl.function as fn\n",
    "import networkx as nx\n",
    "import pandas as pd\n",
    "import socket\n",
    "import struct\n",
    "import random\n",
    "from sklearn.preprocessing import LabelEncoder\n",
    "from sklearn.preprocessing import StandardScaler\n",
    "from sklearn.model_selection import train_test_split\n",
    "import category_encoders as ce\n",
    "from sklearn.decomposition import PCA\n",
    "import seaborn as sns\n",
    "import matplotlib.pyplot as plt\n",
    "import numpy as np"
   ]
  },
  {
   "cell_type": "code",
   "execution_count": 3,
   "metadata": {},
   "outputs": [
    {
     "name": "stdout",
     "output_type": "stream",
     "text": [
      "2.3.0+cu121\n",
      "12.1\n",
      "CUDA is available. PyTorch is using GPU.\n",
      "Device count: 1\n",
      "Current device: 0\n",
      "Device name: NVIDIA GeForce GTX 1650\n"
     ]
    }
   ],
   "source": [
    "import torch\n",
    "print(torch.__version__)\n",
    "print(torch.version.cuda)  \n",
    "if torch.cuda.is_available():\n",
    "    print(\"CUDA is available. PyTorch is using GPU.\")\n",
    "    print(f\"Device count: {torch.cuda.device_count()}\")\n",
    "    print(f\"Current device: {torch.cuda.current_device()}\")\n",
    "    print(f\"Device name: {torch.cuda.get_device_name(torch.cuda.current_device())}\")\n",
    "else:\n",
    "    print(\"CUDA is not available. PyTorch is using CPU.\")"
   ]
  },
  {
   "cell_type": "code",
   "execution_count": 34,
   "metadata": {},
   "outputs": [
    {
     "name": "stdout",
     "output_type": "stream",
     "text": [
      "19740 fully duplicate rows to remove\n"
     ]
    }
   ],
   "source": [
    "data = pd.read_csv('/data/NF-UNSW-NB15.csv')\n",
    "print(data.duplicated().sum(), \"fully duplicate rows to remove\")\n",
    "data.drop_duplicates(inplace=True)\n",
    "data.reset_index(inplace=True, drop=True)"
   ]
  },
  {
   "cell_type": "code",
   "execution_count": 35,
   "metadata": {},
   "outputs": [
    {
     "data": {
      "text/html": [
       "<div>\n",
       "<style scoped>\n",
       "    .dataframe tbody tr th:only-of-type {\n",
       "        vertical-align: middle;\n",
       "    }\n",
       "\n",
       "    .dataframe tbody tr th {\n",
       "        vertical-align: top;\n",
       "    }\n",
       "\n",
       "    .dataframe thead th {\n",
       "        text-align: right;\n",
       "    }\n",
       "</style>\n",
       "<table border=\"1\" class=\"dataframe\">\n",
       "  <thead>\n",
       "    <tr style=\"text-align: right;\">\n",
       "      <th></th>\n",
       "      <th>IPV4_SRC_ADDR</th>\n",
       "      <th>L4_SRC_PORT</th>\n",
       "      <th>IPV4_DST_ADDR</th>\n",
       "      <th>L4_DST_PORT</th>\n",
       "      <th>PROTOCOL</th>\n",
       "      <th>L7_PROTO</th>\n",
       "      <th>IN_BYTES</th>\n",
       "      <th>OUT_BYTES</th>\n",
       "      <th>IN_PKTS</th>\n",
       "      <th>OUT_PKTS</th>\n",
       "      <th>TCP_FLAGS</th>\n",
       "      <th>FLOW_DURATION_MILLISECONDS</th>\n",
       "      <th>Label</th>\n",
       "      <th>Attack</th>\n",
       "    </tr>\n",
       "  </thead>\n",
       "  <tbody>\n",
       "    <tr>\n",
       "      <th>0</th>\n",
       "      <td>149.171.126.0</td>\n",
       "      <td>62073</td>\n",
       "      <td>59.166.0.5</td>\n",
       "      <td>56082</td>\n",
       "      <td>6</td>\n",
       "      <td>0.0</td>\n",
       "      <td>9672</td>\n",
       "      <td>416</td>\n",
       "      <td>11</td>\n",
       "      <td>8</td>\n",
       "      <td>25</td>\n",
       "      <td>15</td>\n",
       "      <td>0</td>\n",
       "      <td>Benign</td>\n",
       "    </tr>\n",
       "    <tr>\n",
       "      <th>1</th>\n",
       "      <td>149.171.126.2</td>\n",
       "      <td>32284</td>\n",
       "      <td>59.166.0.5</td>\n",
       "      <td>1526</td>\n",
       "      <td>6</td>\n",
       "      <td>0.0</td>\n",
       "      <td>1776</td>\n",
       "      <td>104</td>\n",
       "      <td>6</td>\n",
       "      <td>2</td>\n",
       "      <td>25</td>\n",
       "      <td>0</td>\n",
       "      <td>0</td>\n",
       "      <td>Benign</td>\n",
       "    </tr>\n",
       "    <tr>\n",
       "      <th>2</th>\n",
       "      <td>149.171.126.0</td>\n",
       "      <td>21</td>\n",
       "      <td>59.166.0.1</td>\n",
       "      <td>21971</td>\n",
       "      <td>6</td>\n",
       "      <td>1.0</td>\n",
       "      <td>1842</td>\n",
       "      <td>1236</td>\n",
       "      <td>26</td>\n",
       "      <td>22</td>\n",
       "      <td>25</td>\n",
       "      <td>1111</td>\n",
       "      <td>0</td>\n",
       "      <td>Benign</td>\n",
       "    </tr>\n",
       "    <tr>\n",
       "      <th>3</th>\n",
       "      <td>59.166.0.1</td>\n",
       "      <td>23800</td>\n",
       "      <td>149.171.126.0</td>\n",
       "      <td>46893</td>\n",
       "      <td>6</td>\n",
       "      <td>0.0</td>\n",
       "      <td>528</td>\n",
       "      <td>8824</td>\n",
       "      <td>10</td>\n",
       "      <td>12</td>\n",
       "      <td>27</td>\n",
       "      <td>124</td>\n",
       "      <td>0</td>\n",
       "      <td>Benign</td>\n",
       "    </tr>\n",
       "    <tr>\n",
       "      <th>4</th>\n",
       "      <td>59.166.0.5</td>\n",
       "      <td>63062</td>\n",
       "      <td>149.171.126.2</td>\n",
       "      <td>21</td>\n",
       "      <td>6</td>\n",
       "      <td>1.0</td>\n",
       "      <td>1786</td>\n",
       "      <td>2340</td>\n",
       "      <td>32</td>\n",
       "      <td>34</td>\n",
       "      <td>25</td>\n",
       "      <td>1459</td>\n",
       "      <td>0</td>\n",
       "      <td>Benign</td>\n",
       "    </tr>\n",
       "    <tr>\n",
       "      <th>...</th>\n",
       "      <td>...</td>\n",
       "      <td>...</td>\n",
       "      <td>...</td>\n",
       "      <td>...</td>\n",
       "      <td>...</td>\n",
       "      <td>...</td>\n",
       "      <td>...</td>\n",
       "      <td>...</td>\n",
       "      <td>...</td>\n",
       "      <td>...</td>\n",
       "      <td>...</td>\n",
       "      <td>...</td>\n",
       "      <td>...</td>\n",
       "      <td>...</td>\n",
       "    </tr>\n",
       "    <tr>\n",
       "      <th>1603373</th>\n",
       "      <td>59.166.0.2</td>\n",
       "      <td>1640</td>\n",
       "      <td>149.171.126.8</td>\n",
       "      <td>53</td>\n",
       "      <td>17</td>\n",
       "      <td>0.0</td>\n",
       "      <td>130</td>\n",
       "      <td>162</td>\n",
       "      <td>2</td>\n",
       "      <td>2</td>\n",
       "      <td>0</td>\n",
       "      <td>0</td>\n",
       "      <td>0</td>\n",
       "      <td>Benign</td>\n",
       "    </tr>\n",
       "    <tr>\n",
       "      <th>1603374</th>\n",
       "      <td>59.166.0.2</td>\n",
       "      <td>3610</td>\n",
       "      <td>149.171.126.6</td>\n",
       "      <td>21</td>\n",
       "      <td>6</td>\n",
       "      <td>1.0</td>\n",
       "      <td>2044</td>\n",
       "      <td>2404</td>\n",
       "      <td>36</td>\n",
       "      <td>34</td>\n",
       "      <td>26</td>\n",
       "      <td>0</td>\n",
       "      <td>0</td>\n",
       "      <td>Benign</td>\n",
       "    </tr>\n",
       "    <tr>\n",
       "      <th>1603375</th>\n",
       "      <td>59.166.0.2</td>\n",
       "      <td>4667</td>\n",
       "      <td>149.171.126.6</td>\n",
       "      <td>40725</td>\n",
       "      <td>6</td>\n",
       "      <td>0.0</td>\n",
       "      <td>320</td>\n",
       "      <td>1918</td>\n",
       "      <td>6</td>\n",
       "      <td>8</td>\n",
       "      <td>27</td>\n",
       "      <td>0</td>\n",
       "      <td>0</td>\n",
       "      <td>Benign</td>\n",
       "    </tr>\n",
       "    <tr>\n",
       "      <th>1603376</th>\n",
       "      <td>59.166.0.2</td>\n",
       "      <td>5641</td>\n",
       "      <td>149.171.126.6</td>\n",
       "      <td>56243</td>\n",
       "      <td>6</td>\n",
       "      <td>0.0</td>\n",
       "      <td>528</td>\n",
       "      <td>8824</td>\n",
       "      <td>10</td>\n",
       "      <td>12</td>\n",
       "      <td>27</td>\n",
       "      <td>0</td>\n",
       "      <td>0</td>\n",
       "      <td>Benign</td>\n",
       "    </tr>\n",
       "    <tr>\n",
       "      <th>1603377</th>\n",
       "      <td>59.166.0.1</td>\n",
       "      <td>1245</td>\n",
       "      <td>149.171.126.6</td>\n",
       "      <td>55094</td>\n",
       "      <td>6</td>\n",
       "      <td>0.0</td>\n",
       "      <td>216</td>\n",
       "      <td>112</td>\n",
       "      <td>4</td>\n",
       "      <td>2</td>\n",
       "      <td>18</td>\n",
       "      <td>0</td>\n",
       "      <td>0</td>\n",
       "      <td>Benign</td>\n",
       "    </tr>\n",
       "  </tbody>\n",
       "</table>\n",
       "<p>1603378 rows × 14 columns</p>\n",
       "</div>"
      ],
      "text/plain": [
       "         IPV4_SRC_ADDR  L4_SRC_PORT  IPV4_DST_ADDR  L4_DST_PORT  PROTOCOL  \\\n",
       "0        149.171.126.0        62073     59.166.0.5        56082         6   \n",
       "1        149.171.126.2        32284     59.166.0.5         1526         6   \n",
       "2        149.171.126.0           21     59.166.0.1        21971         6   \n",
       "3           59.166.0.1        23800  149.171.126.0        46893         6   \n",
       "4           59.166.0.5        63062  149.171.126.2           21         6   \n",
       "...                ...          ...            ...          ...       ...   \n",
       "1603373     59.166.0.2         1640  149.171.126.8           53        17   \n",
       "1603374     59.166.0.2         3610  149.171.126.6           21         6   \n",
       "1603375     59.166.0.2         4667  149.171.126.6        40725         6   \n",
       "1603376     59.166.0.2         5641  149.171.126.6        56243         6   \n",
       "1603377     59.166.0.1         1245  149.171.126.6        55094         6   \n",
       "\n",
       "         L7_PROTO  IN_BYTES  OUT_BYTES  IN_PKTS  OUT_PKTS  TCP_FLAGS  \\\n",
       "0             0.0      9672        416       11         8         25   \n",
       "1             0.0      1776        104        6         2         25   \n",
       "2             1.0      1842       1236       26        22         25   \n",
       "3             0.0       528       8824       10        12         27   \n",
       "4             1.0      1786       2340       32        34         25   \n",
       "...           ...       ...        ...      ...       ...        ...   \n",
       "1603373       0.0       130        162        2         2          0   \n",
       "1603374       1.0      2044       2404       36        34         26   \n",
       "1603375       0.0       320       1918        6         8         27   \n",
       "1603376       0.0       528       8824       10        12         27   \n",
       "1603377       0.0       216        112        4         2         18   \n",
       "\n",
       "         FLOW_DURATION_MILLISECONDS  Label  Attack  \n",
       "0                                15      0  Benign  \n",
       "1                                 0      0  Benign  \n",
       "2                              1111      0  Benign  \n",
       "3                               124      0  Benign  \n",
       "4                              1459      0  Benign  \n",
       "...                             ...    ...     ...  \n",
       "1603373                           0      0  Benign  \n",
       "1603374                           0      0  Benign  \n",
       "1603375                           0      0  Benign  \n",
       "1603376                           0      0  Benign  \n",
       "1603377                           0      0  Benign  \n",
       "\n",
       "[1603378 rows x 14 columns]"
      ]
     },
     "execution_count": 35,
     "metadata": {},
     "output_type": "execute_result"
    }
   ],
   "source": [
    "data"
   ]
  },
  {
   "cell_type": "code",
   "execution_count": 36,
   "metadata": {},
   "outputs": [],
   "source": [
    "data = data.iloc[:3000,:]"
   ]
  },
  {
   "cell_type": "code",
   "execution_count": 37,
   "metadata": {},
   "outputs": [
    {
     "data": {
      "text/plain": [
       "Index(['IPV4_SRC_ADDR', 'L4_SRC_PORT', 'IPV4_DST_ADDR', 'L4_DST_PORT',\n",
       "       'PROTOCOL', 'L7_PROTO', 'IN_BYTES', 'OUT_BYTES', 'IN_PKTS', 'OUT_PKTS',\n",
       "       'TCP_FLAGS', 'FLOW_DURATION_MILLISECONDS', 'Label', 'Attack'],\n",
       "      dtype='object')"
      ]
     },
     "execution_count": 37,
     "metadata": {},
     "output_type": "execute_result"
    }
   ],
   "source": [
    "data.columns"
   ]
  },
  {
   "cell_type": "code",
   "execution_count": 38,
   "metadata": {},
   "outputs": [
    {
     "data": {
      "text/plain": [
       "Attack\n",
       "Benign            2807\n",
       "Exploits            65\n",
       "Fuzzers             54\n",
       "Reconnaissance      35\n",
       "Generic             18\n",
       "DoS                 12\n",
       "Shellcode            5\n",
       "Backdoor             3\n",
       "Worms                1\n",
       "Name: count, dtype: int64"
      ]
     },
     "execution_count": 38,
     "metadata": {},
     "output_type": "execute_result"
    }
   ],
   "source": [
    "data.Attack.value_counts()"
   ]
  },
  {
   "cell_type": "code",
   "execution_count": 39,
   "metadata": {},
   "outputs": [],
   "source": [
    "labels = {\n",
    "    'Dos': ['DoS'],\n",
    "    'Probe': ['Reconnaissance'],\n",
    "    'U2R': ['Generic','Analysis','Exploits','Shellcode','Fuzzers'],\n",
    "    'Normal': ['Benign'],\n",
    "    'R2L': ['Backdoor','Worms']\n",
    "}"
   ]
  },
  {
   "cell_type": "code",
   "execution_count": 40,
   "metadata": {},
   "outputs": [
    {
     "name": "stderr",
     "output_type": "stream",
     "text": [
      "C:\\Users\\houta\\AppData\\Local\\Temp\\ipykernel_13016\\842113218.py:2: SettingWithCopyWarning: \n",
      "A value is trying to be set on a copy of a slice from a DataFrame.\n",
      "Try using .loc[row_indexer,col_indexer] = value instead\n",
      "\n",
      "See the caveats in the documentation: https://pandas.pydata.org/pandas-docs/stable/user_guide/indexing.html#returning-a-view-versus-a-copy\n",
      "  data['Attack_Type'] = data['Attack'].map(mapping)\n"
     ]
    }
   ],
   "source": [
    "mapping = {value: key for key, values in labels.items() for value in values}\n",
    "data['Attack_Type'] = data['Attack'].map(mapping)"
   ]
  },
  {
   "cell_type": "code",
   "execution_count": 41,
   "metadata": {},
   "outputs": [],
   "source": [
    "# data.drop(data.loc[data['Attack_Type']=='Normal'].index[:6900000], axis=0, inplace=True)\n",
    "# data.drop(data.loc[data['Attack_Type']=='Dos'].index[:520000], axis=0, inplace=True)\n",
    "# data.drop(data.loc[data['Attack_Type']=='Probe'].index[:100000], axis=0, inplace=True)\n",
    "# data.drop(data.loc[data['Attack_Type']=='R2L'].index[:30000], axis=0, inplace=True)"
   ]
  },
  {
   "cell_type": "code",
   "execution_count": 42,
   "metadata": {},
   "outputs": [
    {
     "data": {
      "text/plain": [
       "Attack_Type\n",
       "Normal    2807\n",
       "U2R        142\n",
       "Probe       35\n",
       "Dos         12\n",
       "R2L          4\n",
       "Name: count, dtype: int64"
      ]
     },
     "execution_count": 42,
     "metadata": {},
     "output_type": "execute_result"
    }
   ],
   "source": [
    "data.Attack_Type.value_counts()"
   ]
  },
  {
   "cell_type": "code",
   "execution_count": 43,
   "metadata": {},
   "outputs": [
    {
     "name": "stderr",
     "output_type": "stream",
     "text": [
      "C:\\Users\\houta\\AppData\\Local\\Temp\\ipykernel_13016\\3060376596.py:1: SettingWithCopyWarning: \n",
      "A value is trying to be set on a copy of a slice from a DataFrame.\n",
      "Try using .loc[row_indexer,col_indexer] = value instead\n",
      "\n",
      "See the caveats in the documentation: https://pandas.pydata.org/pandas-docs/stable/user_guide/indexing.html#returning-a-view-versus-a-copy\n",
      "  data['IPV4_SRC_ADDR'] = data.IPV4_SRC_ADDR.apply(str)\n",
      "C:\\Users\\houta\\AppData\\Local\\Temp\\ipykernel_13016\\3060376596.py:2: SettingWithCopyWarning: \n",
      "A value is trying to be set on a copy of a slice from a DataFrame.\n",
      "Try using .loc[row_indexer,col_indexer] = value instead\n",
      "\n",
      "See the caveats in the documentation: https://pandas.pydata.org/pandas-docs/stable/user_guide/indexing.html#returning-a-view-versus-a-copy\n",
      "  data['L4_SRC_PORT'] = data.L4_SRC_PORT.apply(str)\n",
      "C:\\Users\\houta\\AppData\\Local\\Temp\\ipykernel_13016\\3060376596.py:3: SettingWithCopyWarning: \n",
      "A value is trying to be set on a copy of a slice from a DataFrame.\n",
      "Try using .loc[row_indexer,col_indexer] = value instead\n",
      "\n",
      "See the caveats in the documentation: https://pandas.pydata.org/pandas-docs/stable/user_guide/indexing.html#returning-a-view-versus-a-copy\n",
      "  data['IPV4_DST_ADDR'] = data.IPV4_DST_ADDR.apply(str)\n",
      "C:\\Users\\houta\\AppData\\Local\\Temp\\ipykernel_13016\\3060376596.py:4: SettingWithCopyWarning: \n",
      "A value is trying to be set on a copy of a slice from a DataFrame.\n",
      "Try using .loc[row_indexer,col_indexer] = value instead\n",
      "\n",
      "See the caveats in the documentation: https://pandas.pydata.org/pandas-docs/stable/user_guide/indexing.html#returning-a-view-versus-a-copy\n",
      "  data['L4_DST_PORT'] = data.L4_DST_PORT.apply(str)\n"
     ]
    }
   ],
   "source": [
    "data['IPV4_SRC_ADDR'] = data.IPV4_SRC_ADDR.apply(str)\n",
    "data['L4_SRC_PORT'] = data.L4_SRC_PORT.apply(str)\n",
    "data['IPV4_DST_ADDR'] = data.IPV4_DST_ADDR.apply(str)\n",
    "data['L4_DST_PORT'] = data.L4_DST_PORT.apply(str)"
   ]
  },
  {
   "cell_type": "code",
   "execution_count": 44,
   "metadata": {},
   "outputs": [
    {
     "name": "stderr",
     "output_type": "stream",
     "text": [
      "C:\\Users\\houta\\AppData\\Local\\Temp\\ipykernel_13016\\679715614.py:1: SettingWithCopyWarning: \n",
      "A value is trying to be set on a copy of a slice from a DataFrame.\n",
      "Try using .loc[row_indexer,col_indexer] = value instead\n",
      "\n",
      "See the caveats in the documentation: https://pandas.pydata.org/pandas-docs/stable/user_guide/indexing.html#returning-a-view-versus-a-copy\n",
      "  data['IPV4_SRC_ADDR'] = data['IPV4_SRC_ADDR'] + ':' + data['L4_SRC_PORT']\n",
      "C:\\Users\\houta\\AppData\\Local\\Temp\\ipykernel_13016\\679715614.py:2: SettingWithCopyWarning: \n",
      "A value is trying to be set on a copy of a slice from a DataFrame.\n",
      "Try using .loc[row_indexer,col_indexer] = value instead\n",
      "\n",
      "See the caveats in the documentation: https://pandas.pydata.org/pandas-docs/stable/user_guide/indexing.html#returning-a-view-versus-a-copy\n",
      "  data['IPV4_DST_ADDR'] = data['IPV4_DST_ADDR'] + ':' + data['L4_DST_PORT']\n",
      "C:\\Users\\houta\\AppData\\Local\\Temp\\ipykernel_13016\\679715614.py:3: SettingWithCopyWarning: \n",
      "A value is trying to be set on a copy of a slice from a DataFrame\n",
      "\n",
      "See the caveats in the documentation: https://pandas.pydata.org/pandas-docs/stable/user_guide/indexing.html#returning-a-view-versus-a-copy\n",
      "  data.drop(columns=['L4_SRC_PORT','L4_DST_PORT'],inplace=True)\n"
     ]
    }
   ],
   "source": [
    "data['IPV4_SRC_ADDR'] = data['IPV4_SRC_ADDR'] + ':' + data['L4_SRC_PORT']\n",
    "data['IPV4_DST_ADDR'] = data['IPV4_DST_ADDR'] + ':' + data['L4_DST_PORT']\n",
    "data.drop(columns=['L4_SRC_PORT','L4_DST_PORT'],inplace=True)"
   ]
  },
  {
   "cell_type": "code",
   "execution_count": 45,
   "metadata": {},
   "outputs": [
    {
     "name": "stderr",
     "output_type": "stream",
     "text": [
      "C:\\Users\\houta\\AppData\\Local\\Temp\\ipykernel_13016\\2169167058.py:1: SettingWithCopyWarning: \n",
      "A value is trying to be set on a copy of a slice from a DataFrame\n",
      "\n",
      "See the caveats in the documentation: https://pandas.pydata.org/pandas-docs/stable/user_guide/indexing.html#returning-a-view-versus-a-copy\n",
      "  data.drop(columns=['Label','Attack'],inplace = True)\n",
      "C:\\Users\\houta\\AppData\\Local\\Temp\\ipykernel_13016\\2169167058.py:2: SettingWithCopyWarning: \n",
      "A value is trying to be set on a copy of a slice from a DataFrame\n",
      "\n",
      "See the caveats in the documentation: https://pandas.pydata.org/pandas-docs/stable/user_guide/indexing.html#returning-a-view-versus-a-copy\n",
      "  data.rename(columns={\"Attack_Type\": \"label\"},inplace = True)\n"
     ]
    }
   ],
   "source": [
    "data.drop(columns=['Label','Attack'],inplace = True)\n",
    "data.rename(columns={\"Attack_Type\": \"label\"},inplace = True)\n"
   ]
  },
  {
   "cell_type": "code",
   "execution_count": 46,
   "metadata": {},
   "outputs": [
    {
     "data": {
      "text/plain": [
       "array([1, 1, 1, ..., 1, 1, 1])"
      ]
     },
     "execution_count": 46,
     "metadata": {},
     "output_type": "execute_result"
    },
    {
     "name": "stderr",
     "output_type": "stream",
     "text": [
      "C:\\Users\\houta\\AppData\\Local\\Temp\\ipykernel_13016\\1843434702.py:3: SettingWithCopyWarning: \n",
      "A value is trying to be set on a copy of a slice from a DataFrame.\n",
      "Try using .loc[row_indexer,col_indexer] = value instead\n",
      "\n",
      "See the caveats in the documentation: https://pandas.pydata.org/pandas-docs/stable/user_guide/indexing.html#returning-a-view-versus-a-copy\n",
      "  data['label'] = le.transform(data['label'])\n"
     ]
    }
   ],
   "source": [
    "le = LabelEncoder()\n",
    "le.fit_transform(data.label.values)\n",
    "data['label'] = le.transform(data['label'])"
   ]
  },
  {
   "cell_type": "code",
   "execution_count": 48,
   "metadata": {},
   "outputs": [
    {
     "data": {
      "text/html": [
       "<div>\n",
       "<style scoped>\n",
       "    .dataframe tbody tr th:only-of-type {\n",
       "        vertical-align: middle;\n",
       "    }\n",
       "\n",
       "    .dataframe tbody tr th {\n",
       "        vertical-align: top;\n",
       "    }\n",
       "\n",
       "    .dataframe thead th {\n",
       "        text-align: right;\n",
       "    }\n",
       "</style>\n",
       "<table border=\"1\" class=\"dataframe\">\n",
       "  <thead>\n",
       "    <tr style=\"text-align: right;\">\n",
       "      <th></th>\n",
       "      <th>IPV4_SRC_ADDR</th>\n",
       "      <th>IPV4_DST_ADDR</th>\n",
       "      <th>PROTOCOL</th>\n",
       "      <th>L7_PROTO</th>\n",
       "      <th>IN_BYTES</th>\n",
       "      <th>OUT_BYTES</th>\n",
       "      <th>IN_PKTS</th>\n",
       "      <th>OUT_PKTS</th>\n",
       "      <th>TCP_FLAGS</th>\n",
       "      <th>FLOW_DURATION_MILLISECONDS</th>\n",
       "      <th>label</th>\n",
       "    </tr>\n",
       "  </thead>\n",
       "  <tbody>\n",
       "    <tr>\n",
       "      <th>0</th>\n",
       "      <td>149.171.126.0:62073</td>\n",
       "      <td>59.166.0.5:56082</td>\n",
       "      <td>6</td>\n",
       "      <td>0.0</td>\n",
       "      <td>9672</td>\n",
       "      <td>416</td>\n",
       "      <td>11</td>\n",
       "      <td>8</td>\n",
       "      <td>25</td>\n",
       "      <td>15</td>\n",
       "      <td>1</td>\n",
       "    </tr>\n",
       "    <tr>\n",
       "      <th>1</th>\n",
       "      <td>149.171.126.2:32284</td>\n",
       "      <td>59.166.0.5:1526</td>\n",
       "      <td>6</td>\n",
       "      <td>0.0</td>\n",
       "      <td>1776</td>\n",
       "      <td>104</td>\n",
       "      <td>6</td>\n",
       "      <td>2</td>\n",
       "      <td>25</td>\n",
       "      <td>0</td>\n",
       "      <td>1</td>\n",
       "    </tr>\n",
       "    <tr>\n",
       "      <th>2</th>\n",
       "      <td>149.171.126.0:21</td>\n",
       "      <td>59.166.0.1:21971</td>\n",
       "      <td>6</td>\n",
       "      <td>1.0</td>\n",
       "      <td>1842</td>\n",
       "      <td>1236</td>\n",
       "      <td>26</td>\n",
       "      <td>22</td>\n",
       "      <td>25</td>\n",
       "      <td>1111</td>\n",
       "      <td>1</td>\n",
       "    </tr>\n",
       "    <tr>\n",
       "      <th>3</th>\n",
       "      <td>59.166.0.1:23800</td>\n",
       "      <td>149.171.126.0:46893</td>\n",
       "      <td>6</td>\n",
       "      <td>0.0</td>\n",
       "      <td>528</td>\n",
       "      <td>8824</td>\n",
       "      <td>10</td>\n",
       "      <td>12</td>\n",
       "      <td>27</td>\n",
       "      <td>124</td>\n",
       "      <td>1</td>\n",
       "    </tr>\n",
       "    <tr>\n",
       "      <th>4</th>\n",
       "      <td>59.166.0.5:63062</td>\n",
       "      <td>149.171.126.2:21</td>\n",
       "      <td>6</td>\n",
       "      <td>1.0</td>\n",
       "      <td>1786</td>\n",
       "      <td>2340</td>\n",
       "      <td>32</td>\n",
       "      <td>34</td>\n",
       "      <td>25</td>\n",
       "      <td>1459</td>\n",
       "      <td>1</td>\n",
       "    </tr>\n",
       "  </tbody>\n",
       "</table>\n",
       "</div>"
      ],
      "text/plain": [
       "         IPV4_SRC_ADDR        IPV4_DST_ADDR  PROTOCOL  L7_PROTO  IN_BYTES  \\\n",
       "0  149.171.126.0:62073     59.166.0.5:56082         6       0.0      9672   \n",
       "1  149.171.126.2:32284      59.166.0.5:1526         6       0.0      1776   \n",
       "2     149.171.126.0:21     59.166.0.1:21971         6       1.0      1842   \n",
       "3     59.166.0.1:23800  149.171.126.0:46893         6       0.0       528   \n",
       "4     59.166.0.5:63062     149.171.126.2:21         6       1.0      1786   \n",
       "\n",
       "   OUT_BYTES  IN_PKTS  OUT_PKTS  TCP_FLAGS  FLOW_DURATION_MILLISECONDS  label  \n",
       "0        416       11         8         25                          15      1  \n",
       "1        104        6         2         25                           0      1  \n",
       "2       1236       26        22         25                        1111      1  \n",
       "3       8824       10        12         27                         124      1  \n",
       "4       2340       32        34         25                        1459      1  "
      ]
     },
     "execution_count": 48,
     "metadata": {},
     "output_type": "execute_result"
    }
   ],
   "source": [
    "data.head()"
   ]
  },
  {
   "cell_type": "code",
   "execution_count": 49,
   "metadata": {},
   "outputs": [
    {
     "name": "stderr",
     "output_type": "stream",
     "text": [
      "d:\\DoAn\\.venv\\Lib\\site-packages\\category_encoders\\ordinal.py:198: FutureWarning: Downcasting object dtype arrays on .fillna, .ffill, .bfill is deprecated and will change in a future version. Call result.infer_objects(copy=False) instead. To opt-in to the future behavior, set `pd.set_option('future.no_silent_downcasting', True)`\n",
      "  X[column] = X[column].astype(\"object\").fillna(np.nan).map(col_mapping)\n",
      "d:\\DoAn\\.venv\\Lib\\site-packages\\category_encoders\\ordinal.py:198: FutureWarning: Downcasting object dtype arrays on .fillna, .ffill, .bfill is deprecated and will change in a future version. Call result.infer_objects(copy=False) instead. To opt-in to the future behavior, set `pd.set_option('future.no_silent_downcasting', True)`\n",
      "  X[column] = X[column].astype(\"object\").fillna(np.nan).map(col_mapping)\n",
      "d:\\DoAn\\.venv\\Lib\\site-packages\\category_encoders\\ordinal.py:198: FutureWarning: Downcasting object dtype arrays on .fillna, .ffill, .bfill is deprecated and will change in a future version. Call result.infer_objects(copy=False) instead. To opt-in to the future behavior, set `pd.set_option('future.no_silent_downcasting', True)`\n",
      "  X[column] = X[column].astype(\"object\").fillna(np.nan).map(col_mapping)\n",
      "d:\\DoAn\\.venv\\Lib\\site-packages\\category_encoders\\ordinal.py:198: FutureWarning: Downcasting object dtype arrays on .fillna, .ffill, .bfill is deprecated and will change in a future version. Call result.infer_objects(copy=False) instead. To opt-in to the future behavior, set `pd.set_option('future.no_silent_downcasting', True)`\n",
      "  X[column] = X[column].astype(\"object\").fillna(np.nan).map(col_mapping)\n",
      "d:\\DoAn\\.venv\\Lib\\site-packages\\category_encoders\\ordinal.py:198: FutureWarning: Downcasting object dtype arrays on .fillna, .ffill, .bfill is deprecated and will change in a future version. Call result.infer_objects(copy=False) instead. To opt-in to the future behavior, set `pd.set_option('future.no_silent_downcasting', True)`\n",
      "  X[column] = X[column].astype(\"object\").fillna(np.nan).map(col_mapping)\n",
      "d:\\DoAn\\.venv\\Lib\\site-packages\\category_encoders\\ordinal.py:198: FutureWarning: Downcasting object dtype arrays on .fillna, .ffill, .bfill is deprecated and will change in a future version. Call result.infer_objects(copy=False) instead. To opt-in to the future behavior, set `pd.set_option('future.no_silent_downcasting', True)`\n",
      "  X[column] = X[column].astype(\"object\").fillna(np.nan).map(col_mapping)\n",
      "d:\\DoAn\\.venv\\Lib\\site-packages\\category_encoders\\ordinal.py:198: FutureWarning: Downcasting object dtype arrays on .fillna, .ffill, .bfill is deprecated and will change in a future version. Call result.infer_objects(copy=False) instead. To opt-in to the future behavior, set `pd.set_option('future.no_silent_downcasting', True)`\n",
      "  X[column] = X[column].astype(\"object\").fillna(np.nan).map(col_mapping)\n",
      "d:\\DoAn\\.venv\\Lib\\site-packages\\category_encoders\\ordinal.py:198: FutureWarning: Downcasting object dtype arrays on .fillna, .ffill, .bfill is deprecated and will change in a future version. Call result.infer_objects(copy=False) instead. To opt-in to the future behavior, set `pd.set_option('future.no_silent_downcasting', True)`\n",
      "  X[column] = X[column].astype(\"object\").fillna(np.nan).map(col_mapping)\n",
      "d:\\DoAn\\.venv\\Lib\\site-packages\\category_encoders\\ordinal.py:198: FutureWarning: Downcasting object dtype arrays on .fillna, .ffill, .bfill is deprecated and will change in a future version. Call result.infer_objects(copy=False) instead. To opt-in to the future behavior, set `pd.set_option('future.no_silent_downcasting', True)`\n",
      "  X[column] = X[column].astype(\"object\").fillna(np.nan).map(col_mapping)\n",
      "d:\\DoAn\\.venv\\Lib\\site-packages\\category_encoders\\ordinal.py:198: FutureWarning: Downcasting object dtype arrays on .fillna, .ffill, .bfill is deprecated and will change in a future version. Call result.infer_objects(copy=False) instead. To opt-in to the future behavior, set `pd.set_option('future.no_silent_downcasting', True)`\n",
      "  X[column] = X[column].astype(\"object\").fillna(np.nan).map(col_mapping)\n",
      "d:\\DoAn\\.venv\\Lib\\site-packages\\category_encoders\\ordinal.py:198: FutureWarning: Downcasting object dtype arrays on .fillna, .ffill, .bfill is deprecated and will change in a future version. Call result.infer_objects(copy=False) instead. To opt-in to the future behavior, set `pd.set_option('future.no_silent_downcasting', True)`\n",
      "  X[column] = X[column].astype(\"object\").fillna(np.nan).map(col_mapping)\n",
      "d:\\DoAn\\.venv\\Lib\\site-packages\\category_encoders\\ordinal.py:198: FutureWarning: Downcasting object dtype arrays on .fillna, .ffill, .bfill is deprecated and will change in a future version. Call result.infer_objects(copy=False) instead. To opt-in to the future behavior, set `pd.set_option('future.no_silent_downcasting', True)`\n",
      "  X[column] = X[column].astype(\"object\").fillna(np.nan).map(col_mapping)\n",
      "C:\\Users\\houta\\AppData\\Local\\Temp\\ipykernel_13016\\298452546.py:2: SettingWithCopyWarning: \n",
      "A value is trying to be set on a copy of a slice from a DataFrame.\n",
      "Try using .loc[row_indexer,col_indexer] = value instead\n",
      "\n",
      "See the caveats in the documentation: https://pandas.pydata.org/pandas-docs/stable/user_guide/indexing.html#returning-a-view-versus-a-copy\n",
      "  data[['PROTOCOL', 'L7_PROTO', 'TCP_FLAGS']] = target_encoder.fit_transform(data[['PROTOCOL', 'L7_PROTO', 'TCP_FLAGS']], data['label'])\n"
     ]
    }
   ],
   "source": [
    "target_encoder = ce.TargetEncoder(cols=['TCP_FLAGS','L7_PROTO','PROTOCOL'])\n",
    "data[['PROTOCOL', 'L7_PROTO', 'TCP_FLAGS']] = target_encoder.fit_transform(data[['PROTOCOL', 'L7_PROTO', 'TCP_FLAGS']], data['label'])"
   ]
  },
  {
   "cell_type": "code",
   "execution_count": 50,
   "metadata": {},
   "outputs": [
    {
     "name": "stderr",
     "output_type": "stream",
     "text": [
      "C:\\Users\\houta\\AppData\\Local\\Temp\\ipykernel_13016\\635540435.py:2: FutureWarning: Setting an item of incompatible dtype is deprecated and will raise in a future error of pandas. Value '[ 0.22536263 -0.15440072 -0.15122641 ... -0.21250028 -0.00597751\n",
      "  0.84368047]' has dtype incompatible with int64, please explicitly cast to a compatible dtype first.\n",
      "  data.iloc[:, 2:-1] = scaler.fit_transform(data.iloc[:, 2:-1])\n",
      "C:\\Users\\houta\\AppData\\Local\\Temp\\ipykernel_13016\\635540435.py:2: FutureWarning: Setting an item of incompatible dtype is deprecated and will raise in a future error of pandas. Value '[-0.25815113 -0.2598981  -0.25355975 ... -0.25877825  0.16282254\n",
      "  5.11442569]' has dtype incompatible with int64, please explicitly cast to a compatible dtype first.\n",
      "  data.iloc[:, 2:-1] = scaler.fit_transform(data.iloc[:, 2:-1])\n",
      "C:\\Users\\houta\\AppData\\Local\\Temp\\ipykernel_13016\\635540435.py:2: FutureWarning: Setting an item of incompatible dtype is deprecated and will raise in a future error of pandas. Value '[-0.4190805  -0.48821897 -0.21166511 ... -0.51587435  0.59034109\n",
      "  4.95989207]' has dtype incompatible with int64, please explicitly cast to a compatible dtype first.\n",
      "  data.iloc[:, 2:-1] = scaler.fit_transform(data.iloc[:, 2:-1])\n",
      "C:\\Users\\houta\\AppData\\Local\\Temp\\ipykernel_13016\\635540435.py:2: FutureWarning: Setting an item of incompatible dtype is deprecated and will raise in a future error of pandas. Value '[-0.34053802 -0.38518443 -0.23636306 ... -0.37030229  0.23986532\n",
      "  5.21049905]' has dtype incompatible with int64, please explicitly cast to a compatible dtype first.\n",
      "  data.iloc[:, 2:-1] = scaler.fit_transform(data.iloc[:, 2:-1])\n",
      "C:\\Users\\houta\\AppData\\Local\\Temp\\ipykernel_13016\\635540435.py:2: FutureWarning: Setting an item of incompatible dtype is deprecated and will raise in a future error of pandas. Value '[-0.18218583 -0.18645998  0.13011222 ... -0.08473516 -0.17107303\n",
      "  2.42020293]' has dtype incompatible with int64, please explicitly cast to a compatible dtype first.\n",
      "  data.iloc[:, 2:-1] = scaler.fit_transform(data.iloc[:, 2:-1])\n"
     ]
    }
   ],
   "source": [
    "scaler = StandardScaler()\n",
    "data.iloc[:, 2:-1] = scaler.fit_transform(data.iloc[:, 2:-1])"
   ]
  },
  {
   "cell_type": "code",
   "execution_count": 51,
   "metadata": {},
   "outputs": [],
   "source": [
    "# data =data.groupby(['IPV4_SRC_ADDR', 'IPV4_DST_ADDR']).agg({\n",
    "#     'PROTOCOL': 'mean',\n",
    "#     'L7_PROTO': 'mean',\n",
    "#     'IN_BYTES': 'mean',\n",
    "#     'OUT_BYTES': 'mean',\n",
    "#     'IN_PKTS': 'mean',\n",
    "#     'OUT_PKTS': 'mean',\n",
    "#     'TCP_FLAGS': 'mean', \n",
    "#     'FLOW_DURATION_MILLISECONDS': 'mean',\n",
    "#     'label': 'first' \n",
    "# }).reset_index()"
   ]
  },
  {
   "cell_type": "code",
   "execution_count": 52,
   "metadata": {},
   "outputs": [
    {
     "data": {
      "text/html": [
       "<div>\n",
       "<style scoped>\n",
       "    .dataframe tbody tr th:only-of-type {\n",
       "        vertical-align: middle;\n",
       "    }\n",
       "\n",
       "    .dataframe tbody tr th {\n",
       "        vertical-align: top;\n",
       "    }\n",
       "\n",
       "    .dataframe thead th {\n",
       "        text-align: right;\n",
       "    }\n",
       "</style>\n",
       "<table border=\"1\" class=\"dataframe\">\n",
       "  <thead>\n",
       "    <tr style=\"text-align: right;\">\n",
       "      <th></th>\n",
       "      <th>IPV4_SRC_ADDR</th>\n",
       "      <th>IPV4_DST_ADDR</th>\n",
       "      <th>PROTOCOL</th>\n",
       "      <th>L7_PROTO</th>\n",
       "      <th>IN_BYTES</th>\n",
       "      <th>OUT_BYTES</th>\n",
       "      <th>IN_PKTS</th>\n",
       "      <th>OUT_PKTS</th>\n",
       "      <th>TCP_FLAGS</th>\n",
       "      <th>FLOW_DURATION_MILLISECONDS</th>\n",
       "      <th>label</th>\n",
       "    </tr>\n",
       "  </thead>\n",
       "  <tbody>\n",
       "    <tr>\n",
       "      <th>0</th>\n",
       "      <td>149.171.126.0:62073</td>\n",
       "      <td>59.166.0.5:56082</td>\n",
       "      <td>-0.656390</td>\n",
       "      <td>-0.140368</td>\n",
       "      <td>0.225363</td>\n",
       "      <td>-0.258151</td>\n",
       "      <td>-0.419081</td>\n",
       "      <td>-0.340538</td>\n",
       "      <td>-0.114486</td>\n",
       "      <td>-0.182186</td>\n",
       "      <td>1</td>\n",
       "    </tr>\n",
       "    <tr>\n",
       "      <th>1</th>\n",
       "      <td>149.171.126.2:32284</td>\n",
       "      <td>59.166.0.5:1526</td>\n",
       "      <td>-0.656390</td>\n",
       "      <td>-0.140368</td>\n",
       "      <td>-0.154401</td>\n",
       "      <td>-0.259898</td>\n",
       "      <td>-0.488219</td>\n",
       "      <td>-0.385184</td>\n",
       "      <td>-0.114486</td>\n",
       "      <td>-0.186460</td>\n",
       "      <td>1</td>\n",
       "    </tr>\n",
       "    <tr>\n",
       "      <th>2</th>\n",
       "      <td>149.171.126.0:21</td>\n",
       "      <td>59.166.0.1:21971</td>\n",
       "      <td>-0.656390</td>\n",
       "      <td>-0.012611</td>\n",
       "      <td>-0.151226</td>\n",
       "      <td>-0.253560</td>\n",
       "      <td>-0.211665</td>\n",
       "      <td>-0.236363</td>\n",
       "      <td>-0.114486</td>\n",
       "      <td>0.130112</td>\n",
       "      <td>1</td>\n",
       "    </tr>\n",
       "    <tr>\n",
       "      <th>3</th>\n",
       "      <td>59.166.0.1:23800</td>\n",
       "      <td>149.171.126.0:46893</td>\n",
       "      <td>-0.656390</td>\n",
       "      <td>-0.140368</td>\n",
       "      <td>-0.214424</td>\n",
       "      <td>-0.211073</td>\n",
       "      <td>-0.432908</td>\n",
       "      <td>-0.310774</td>\n",
       "      <td>-0.344517</td>\n",
       "      <td>-0.151127</td>\n",
       "      <td>1</td>\n",
       "    </tr>\n",
       "    <tr>\n",
       "      <th>4</th>\n",
       "      <td>59.166.0.5:63062</td>\n",
       "      <td>149.171.126.2:21</td>\n",
       "      <td>-0.656390</td>\n",
       "      <td>-0.012611</td>\n",
       "      <td>-0.153920</td>\n",
       "      <td>-0.247378</td>\n",
       "      <td>-0.128699</td>\n",
       "      <td>-0.147070</td>\n",
       "      <td>-0.114486</td>\n",
       "      <td>0.229273</td>\n",
       "      <td>1</td>\n",
       "    </tr>\n",
       "    <tr>\n",
       "      <th>...</th>\n",
       "      <td>...</td>\n",
       "      <td>...</td>\n",
       "      <td>...</td>\n",
       "      <td>...</td>\n",
       "      <td>...</td>\n",
       "      <td>...</td>\n",
       "      <td>...</td>\n",
       "      <td>...</td>\n",
       "      <td>...</td>\n",
       "      <td>...</td>\n",
       "      <td>...</td>\n",
       "    </tr>\n",
       "    <tr>\n",
       "      <th>2995</th>\n",
       "      <td>59.166.0.1:33499</td>\n",
       "      <td>149.171.126.2:52467</td>\n",
       "      <td>-0.656390</td>\n",
       "      <td>-0.433549</td>\n",
       "      <td>-0.132565</td>\n",
       "      <td>-0.184891</td>\n",
       "      <td>-0.101044</td>\n",
       "      <td>-0.132188</td>\n",
       "      <td>-0.344517</td>\n",
       "      <td>-0.183041</td>\n",
       "      <td>1</td>\n",
       "    </tr>\n",
       "    <tr>\n",
       "      <th>2996</th>\n",
       "      <td>59.166.0.6:29538</td>\n",
       "      <td>149.171.126.2:30318</td>\n",
       "      <td>1.420033</td>\n",
       "      <td>-0.223514</td>\n",
       "      <td>-0.213655</td>\n",
       "      <td>-0.258778</td>\n",
       "      <td>-0.515874</td>\n",
       "      <td>-0.370302</td>\n",
       "      <td>0.271816</td>\n",
       "      <td>-0.133460</td>\n",
       "      <td>1</td>\n",
       "    </tr>\n",
       "    <tr>\n",
       "      <th>2997</th>\n",
       "      <td>59.166.0.6:57873</td>\n",
       "      <td>149.171.126.2:111</td>\n",
       "      <td>1.420033</td>\n",
       "      <td>-0.223514</td>\n",
       "      <td>-0.212500</td>\n",
       "      <td>-0.258778</td>\n",
       "      <td>-0.515874</td>\n",
       "      <td>-0.370302</td>\n",
       "      <td>0.271816</td>\n",
       "      <td>-0.084735</td>\n",
       "      <td>1</td>\n",
       "    </tr>\n",
       "    <tr>\n",
       "      <th>2998</th>\n",
       "      <td>59.166.0.1:46359</td>\n",
       "      <td>149.171.126.2:33104</td>\n",
       "      <td>-0.656390</td>\n",
       "      <td>-0.433549</td>\n",
       "      <td>-0.005978</td>\n",
       "      <td>0.162823</td>\n",
       "      <td>0.590341</td>\n",
       "      <td>0.239865</td>\n",
       "      <td>-0.344517</td>\n",
       "      <td>-0.171073</td>\n",
       "      <td>1</td>\n",
       "    </tr>\n",
       "    <tr>\n",
       "      <th>2999</th>\n",
       "      <td>59.166.0.4:39032</td>\n",
       "      <td>149.171.126.6:6881</td>\n",
       "      <td>-0.656390</td>\n",
       "      <td>-0.432458</td>\n",
       "      <td>0.843680</td>\n",
       "      <td>5.114426</td>\n",
       "      <td>4.959892</td>\n",
       "      <td>5.210499</td>\n",
       "      <td>-0.344517</td>\n",
       "      <td>2.420203</td>\n",
       "      <td>1</td>\n",
       "    </tr>\n",
       "  </tbody>\n",
       "</table>\n",
       "<p>3000 rows × 11 columns</p>\n",
       "</div>"
      ],
      "text/plain": [
       "            IPV4_SRC_ADDR        IPV4_DST_ADDR  PROTOCOL  L7_PROTO  IN_BYTES  \\\n",
       "0     149.171.126.0:62073     59.166.0.5:56082 -0.656390 -0.140368  0.225363   \n",
       "1     149.171.126.2:32284      59.166.0.5:1526 -0.656390 -0.140368 -0.154401   \n",
       "2        149.171.126.0:21     59.166.0.1:21971 -0.656390 -0.012611 -0.151226   \n",
       "3        59.166.0.1:23800  149.171.126.0:46893 -0.656390 -0.140368 -0.214424   \n",
       "4        59.166.0.5:63062     149.171.126.2:21 -0.656390 -0.012611 -0.153920   \n",
       "...                   ...                  ...       ...       ...       ...   \n",
       "2995     59.166.0.1:33499  149.171.126.2:52467 -0.656390 -0.433549 -0.132565   \n",
       "2996     59.166.0.6:29538  149.171.126.2:30318  1.420033 -0.223514 -0.213655   \n",
       "2997     59.166.0.6:57873    149.171.126.2:111  1.420033 -0.223514 -0.212500   \n",
       "2998     59.166.0.1:46359  149.171.126.2:33104 -0.656390 -0.433549 -0.005978   \n",
       "2999     59.166.0.4:39032   149.171.126.6:6881 -0.656390 -0.432458  0.843680   \n",
       "\n",
       "      OUT_BYTES   IN_PKTS  OUT_PKTS  TCP_FLAGS  FLOW_DURATION_MILLISECONDS  \\\n",
       "0     -0.258151 -0.419081 -0.340538  -0.114486                   -0.182186   \n",
       "1     -0.259898 -0.488219 -0.385184  -0.114486                   -0.186460   \n",
       "2     -0.253560 -0.211665 -0.236363  -0.114486                    0.130112   \n",
       "3     -0.211073 -0.432908 -0.310774  -0.344517                   -0.151127   \n",
       "4     -0.247378 -0.128699 -0.147070  -0.114486                    0.229273   \n",
       "...         ...       ...       ...        ...                         ...   \n",
       "2995  -0.184891 -0.101044 -0.132188  -0.344517                   -0.183041   \n",
       "2996  -0.258778 -0.515874 -0.370302   0.271816                   -0.133460   \n",
       "2997  -0.258778 -0.515874 -0.370302   0.271816                   -0.084735   \n",
       "2998   0.162823  0.590341  0.239865  -0.344517                   -0.171073   \n",
       "2999   5.114426  4.959892  5.210499  -0.344517                    2.420203   \n",
       "\n",
       "      label  \n",
       "0         1  \n",
       "1         1  \n",
       "2         1  \n",
       "3         1  \n",
       "4         1  \n",
       "...     ...  \n",
       "2995      1  \n",
       "2996      1  \n",
       "2997      1  \n",
       "2998      1  \n",
       "2999      1  \n",
       "\n",
       "[3000 rows x 11 columns]"
      ]
     },
     "execution_count": 52,
     "metadata": {},
     "output_type": "execute_result"
    }
   ],
   "source": [
    "data"
   ]
  },
  {
   "cell_type": "code",
   "execution_count": 53,
   "metadata": {},
   "outputs": [
    {
     "name": "stderr",
     "output_type": "stream",
     "text": [
      "C:\\Users\\houta\\AppData\\Local\\Temp\\ipykernel_13016\\3079816665.py:2: SettingWithCopyWarning: \n",
      "A value is trying to be set on a copy of a slice from a DataFrame.\n",
      "Try using .loc[row_indexer,col_indexer] = value instead\n",
      "\n",
      "See the caveats in the documentation: https://pandas.pydata.org/pandas-docs/stable/user_guide/indexing.html#returning-a-view-versus-a-copy\n",
      "  data[cols_to_norm] = scaler.fit_transform(data[cols_to_norm])\n",
      "C:\\Users\\houta\\AppData\\Local\\Temp\\ipykernel_13016\\3079816665.py:3: SettingWithCopyWarning: \n",
      "A value is trying to be set on a copy of a slice from a DataFrame.\n",
      "Try using .loc[row_indexer,col_indexer] = value instead\n",
      "\n",
      "See the caveats in the documentation: https://pandas.pydata.org/pandas-docs/stable/user_guide/indexing.html#returning-a-view-versus-a-copy\n",
      "  data['h'] = data[ cols_to_norm ].values.tolist()\n"
     ]
    }
   ],
   "source": [
    "cols_to_norm =data.iloc[:, 2:-1].columns\n",
    "data[cols_to_norm] = scaler.fit_transform(data[cols_to_norm])\n",
    "data['h'] = data[ cols_to_norm ].values.tolist()"
   ]
  },
  {
   "cell_type": "code",
   "execution_count": 54,
   "metadata": {},
   "outputs": [],
   "source": [
    "X_train, X_test, y_train, y_test = train_test_split(\n",
    "     data, data.label, test_size=0.2, random_state=47,stratify= data.label)"
   ]
  },
  {
   "cell_type": "code",
   "execution_count": 83,
   "metadata": {},
   "outputs": [],
   "source": [
    "G = nx.from_pandas_edgelist(\n",
    "    X_train,\n",
    "    source='IPV4_SRC_ADDR',\n",
    "    target='IPV4_DST_ADDR',\n",
    "    edge_attr=['h', 'label'],\n",
    "    create_using=nx.MultiDiGraph()\n",
    ")\n",
    "G = from_networkx(G, edge_attrs=['h', 'label'])"
   ]
  },
  {
   "cell_type": "code",
   "execution_count": 24,
   "metadata": {},
   "outputs": [],
   "source": [
    "G.ndata['h'] = th.ones(G.num_nodes(), G.edata['h'].shape[1])"
   ]
  },
  {
   "cell_type": "code",
   "execution_count": 25,
   "metadata": {
    "notebookRunGroups": {
     "groupValue": "2"
    }
   },
   "outputs": [],
   "source": [
    "G.edata['train_mask'] = th.ones(len(G.edata['h']), dtype=th.bool)\n",
    "G.ndata['h'] = th.reshape(G.ndata['h'], (G.ndata['h'].shape[0], 1,G.ndata['h'].shape[1]))\n",
    "G.edata['h'] = th.reshape(G.edata['h'], (G.edata['h'].shape[0], 1,G.edata['h'].shape[1]))"
   ]
  },
  {
   "cell_type": "code",
   "execution_count": null,
   "metadata": {},
   "outputs": [],
   "source": []
  },
  {
   "cell_type": "code",
   "execution_count": 26,
   "metadata": {},
   "outputs": [],
   "source": [
    "def compute_accuracy(pred, labels):\n",
    "    return (pred.argmax(1) == labels).float().mean().item()\n",
    "class SAGELayer(nn.Module):\n",
    "    def __init__(self, ndim_in, edims, ndim_out, activation):\n",
    "        super(SAGELayer, self).__init__()\n",
    "        ### force to output fix dimensions\n",
    "        self.W_msg = nn.Linear(ndim_in + edims, ndim_out)\n",
    "        ### apply weight\n",
    "        self.W_apply = nn.Linear(ndim_in + ndim_out, ndim_out)\n",
    "        self.activation = activation\n",
    "\n",
    "    def message_func(self, edges):\n",
    "        return {'m': self.W_msg(th.cat([edges.src['h'], edges.data['h']], 2))}\n",
    "\n",
    "    def forward(self, g_dgl, nfeats, efeats):\n",
    "        with g_dgl.local_scope():\n",
    "            g = g_dgl\n",
    "            g.ndata['h'] = nfeats\n",
    "            g.edata['h'] = efeats\n",
    "            # Eq4\n",
    "            g.update_all(self.message_func, fn.mean('m', 'h_neigh'))\n",
    "            # Eq5          \n",
    "            g.ndata['h'] = F.relu(self.W_apply(th.cat([g.ndata['h'], g.ndata['h_neigh']], 2)))\n",
    "            return g.ndata['h']\n",
    "\n",
    "\n",
    "class SAGE(nn.Module):\n",
    "    def __init__(self, ndim_in, ndim_out, edim, activation, dropout):\n",
    "        super(SAGE, self).__init__()\n",
    "        self.layers = nn.ModuleList()\n",
    "        self.layers.append(SAGELayer(ndim_in, edim, 128, activation))\n",
    "        self.layers.append(SAGELayer(128, edim, ndim_out, activation))\n",
    "        self.dropout = nn.Dropout(p=dropout)\n",
    "\n",
    "    def forward(self, g, nfeats, efeats):\n",
    "        for i, layer in enumerate(self.layers):\n",
    "            if i != 0:\n",
    "                nfeats = self.dropout(nfeats)\n",
    "            nfeats = layer(g, nfeats, efeats)\n",
    "        return nfeats.sum(1)\n",
    "class MLPPredictor(nn.Module):\n",
    "    def __init__(self, in_features, out_classes):\n",
    "        super().__init__()\n",
    "        self.W = nn.Linear(in_features * 2, out_classes)\n",
    "\n",
    "    def apply_edges(self, edges):\n",
    "        h_u = edges.src['h']\n",
    "        h_v = edges.dst['h']\n",
    "        global score\n",
    "        global emb\n",
    "        emb = th.cat([h_u, h_v], 1)\n",
    "        score = self.W(th.cat([h_u, h_v], 1))\n",
    "        return {'score': score}\n",
    "\n",
    "    def forward(self, graph, h):\n",
    "        with graph.local_scope():\n",
    "            graph.ndata['h'] = h\n",
    "            graph.apply_edges(self.apply_edges)\n",
    "            return graph.edata['score']\n",
    "class Model(nn.Module):\n",
    "    def __init__(self, ndim_in, ndim_out, edim, activation, dropout):\n",
    "        super().__init__()\n",
    "        self.gnn = SAGE(ndim_in, ndim_out, edim, activation, dropout)\n",
    "        self.pred = MLPPredictor(ndim_out, 5)\n",
    "    def forward(self, g, nfeats, efeats):\n",
    "        h = self.gnn(g, nfeats, efeats)\n",
    "        return self.pred(g, h)"
   ]
  },
  {
   "cell_type": "code",
   "execution_count": 27,
   "metadata": {},
   "outputs": [],
   "source": [
    "from sklearn.utils import class_weight\n",
    "class_weights = class_weight.compute_class_weight('balanced',\n",
    "                                                 classes= np.unique(G.edata['label'].numpy()),\n",
    "                                                 y= G.edata['label'].numpy())"
   ]
  },
  {
   "cell_type": "code",
   "execution_count": 28,
   "metadata": {},
   "outputs": [],
   "source": [
    "class_weights = th.FloatTensor(class_weights).cuda()\n",
    "criterion = nn.CrossEntropyLoss(weight = class_weights)"
   ]
  },
  {
   "cell_type": "code",
   "execution_count": 29,
   "metadata": {},
   "outputs": [
    {
     "data": {
      "text/plain": [
       "device(type='cuda', index=0)"
      ]
     },
     "execution_count": 29,
     "metadata": {},
     "output_type": "execute_result"
    }
   ],
   "source": [
    "G = G.to('cuda:0')\n",
    "G.device  "
   ]
  },
  {
   "cell_type": "code",
   "execution_count": 30,
   "metadata": {},
   "outputs": [
    {
     "data": {
      "text/plain": [
       "device(type='cuda', index=0)"
      ]
     },
     "execution_count": 30,
     "metadata": {},
     "output_type": "execute_result"
    },
    {
     "data": {
      "text/plain": [
       "device(type='cuda', index=0)"
      ]
     },
     "execution_count": 30,
     "metadata": {},
     "output_type": "execute_result"
    },
    {
     "data": {
      "text/plain": [
       "torch.Size([925629, 1, 8])"
      ]
     },
     "execution_count": 30,
     "metadata": {},
     "output_type": "execute_result"
    },
    {
     "data": {
      "text/plain": [
       "torch.Size([1282702, 1, 8])"
      ]
     },
     "execution_count": 30,
     "metadata": {},
     "output_type": "execute_result"
    }
   ],
   "source": [
    "G.ndata['h'].device\n",
    "G.edata['h'].device\n",
    "G.ndata['h'].shape\n",
    "G.edata['h'].shape"
   ]
  },
  {
   "cell_type": "code",
   "execution_count": null,
   "metadata": {},
   "outputs": [],
   "source": [
    "node_features = G.ndata['h']\n",
    "edge_features = G.edata['h']\n",
    "\n",
    "edge_label = G.edata['label']\n",
    "train_mask = G.edata['train_mask']\n",
    "\n",
    "model = Model(G.ndata['h'].shape[2], 128, G.ndata['h'].shape[2], F.relu, 0.2).cuda()\n",
    "opt = th.optim.Adam(model.parameters())\n",
    "\n",
    "for epoch in range(1,2000):\n",
    "    pred = model(G, node_features,edge_features).cuda()\n",
    "    loss = criterion(pred[train_mask] ,edge_label[train_mask])\n",
    "    opt.zero_grad()\n",
    "    loss.backward()\n",
    "    opt.step()\n",
    "    if epoch % 100 == 0:\n",
    "      print('Epoch:', epoch,'Training acc:', compute_accuracy(pred[train_mask], edge_label[train_mask]))"
   ]
  },
  {
   "cell_type": "code",
   "execution_count": null,
   "metadata": {},
   "outputs": [],
   "source": [
    "model"
   ]
  },
  {
   "cell_type": "code",
   "execution_count": 87,
   "metadata": {},
   "outputs": [],
   "source": [
    "G_test = nx.from_pandas_edgelist(\n",
    "    X_test,\n",
    "    source='IPV4_SRC_ADDR',\n",
    "    target='IPV4_DST_ADDR',\n",
    "    edge_attr=['h', 'label'],\n",
    "    create_using=nx.MultiDiGraph()\n",
    ")\n",
    "G_test = from_networkx(G_test, edge_attrs=['h', 'label'])\n",
    "actual = G_test.edata.pop('label')\n",
    "\n",
    "G_test.ndata['feature'] = th.ones(G_test.num_nodes(), G.ndata['h'].shape[2])\n",
    "G_test.ndata['feature'] = th.reshape(G_test.ndata['feature'], (G_test.ndata['feature'].shape[0], 1, G_test.ndata['feature'].shape[1]))\n",
    "G_test.edata['h'] = th.reshape(G_test.edata['h'], (G_test.edata['h'].shape[0], 1, G_test.edata['h'].shape[1]))"
   ]
  },
  {
   "cell_type": "code",
   "execution_count": 89,
   "metadata": {},
   "outputs": [],
   "source": [
    "G_test = G_test.to('cuda:0')"
   ]
  },
  {
   "cell_type": "code",
   "execution_count": 90,
   "metadata": {},
   "outputs": [],
   "source": [
    "import timeit\n",
    "start_time = timeit.default_timer()\n",
    "node_features_test = G_test.ndata['feature']\n",
    "edge_features_test = G_test.edata['h']\n",
    "test_pred = model(G_test, node_features_test, edge_features_test).cuda()\n",
    "elapsed = timeit.default_timer() - start_time"
   ]
  },
  {
   "cell_type": "code",
   "execution_count": null,
   "metadata": {},
   "outputs": [],
   "source": [
    "test_pred = test_pred.argmax(1)\n",
    "test_pred = th.Tensor.cpu(test_pred).detach().numpy()\n",
    "actual = le.inverse_transform(actual)\n",
    "test_pred = le.inverse_transform(test_pred)"
   ]
  },
  {
   "cell_type": "code",
   "execution_count": 97,
   "metadata": {},
   "outputs": [],
   "source": [
    "import numpy as np\n",
    "\n",
    "\n",
    "def plot_confusion_matrix(cm,\n",
    "                          target_names,\n",
    "                          title='Confusion matrix',\n",
    "                          cmap=None,\n",
    "                          normalize=True):\n",
    "    \n",
    "    import matplotlib.pyplot as plt\n",
    "    import numpy as np\n",
    "    import itertools\n",
    "\n",
    "    accuracy = np.trace(cm) / float(np.sum(cm))\n",
    "    misclass = 1 - accuracy\n",
    "\n",
    "    if cmap is None:\n",
    "        cmap = plt.get_cmap('Blues')\n",
    "\n",
    "    plt.figure(figsize=(12, 12))\n",
    "    plt.imshow(cm, interpolation='nearest', cmap=cmap)\n",
    "    plt.title(title)\n",
    "    plt.colorbar()\n",
    "\n",
    "    if target_names is not None:\n",
    "        tick_marks = np.arange(len(target_names))\n",
    "        plt.xticks(tick_marks, target_names, rotation=45)\n",
    "        plt.yticks(tick_marks, target_names)\n",
    "\n",
    "    if normalize:\n",
    "        cm = cm.astype('float') / cm.sum(axis=1)[:, np.newaxis]\n",
    "\n",
    "\n",
    "    thresh = cm.max() / 1.5 if normalize else cm.max() / 2\n",
    "    for i, j in itertools.product(range(cm.shape[0]), range(cm.shape[1])):\n",
    "        if normalize:\n",
    "            plt.text(j, i, \"{:0.4f}\".format(cm[i, j]),\n",
    "                     horizontalalignment=\"center\",\n",
    "                     color=\"white\" if cm[i, j] > thresh else \"black\")\n",
    "        else:\n",
    "            plt.text(j, i, \"{:,}\".format(cm[i, j]),\n",
    "                     horizontalalignment=\"center\",\n",
    "                     color=\"white\" if cm[i, j] > thresh else \"black\")\n",
    "\n",
    "\n",
    "    plt.tight_layout()\n",
    "    plt.ylabel('True label')\n",
    "    plt.xlabel('Predicted label\\naccuracy={:0.4f}; misclass={:0.4f}'.format(accuracy, misclass))\n",
    "    plt.show()"
   ]
  },
  {
   "cell_type": "code",
   "execution_count": null,
   "metadata": {},
   "outputs": [],
   "source": [
    "from sklearn.metrics import confusion_matrix\n",
    "\n",
    "plot_confusion_matrix(cm = confusion_matrix(actual, test_pred), \n",
    "                      normalize    = False,\n",
    "                      target_names = np.unique(actual),\n",
    "                      title        = \"Confusion Matrix\")\n",
    "from sklearn.metrics import classification_report\n",
    "target_names = np.unique(actual)\n",
    "print(classification_report(actual, test_pred, target_names=target_names, digits=4))\n",
    "actual\n",
    "test_pred"
   ]
  },
  {
   "cell_type": "code",
   "execution_count": null,
   "metadata": {},
   "outputs": [],
   "source": [
    "from sklearn.metrics import accuracy_score, f1_score, recall_score\n",
    "\n",
    "accuracy = accuracy_score(actual, test_pred)\n",
    "f1 = f1_score(actual, test_pred, average='weighted')  # average='weighted' để tính theo tỷ trọng\n",
    "recall = recall_score(actual, test_pred, average='weighted')\n",
    "\n",
    "# In kết quả\n",
    "print(f'Accuracy: {accuracy:.4f}')\n",
    "print(f'F1 Score: {f1:.4f}')\n",
    "print(f'Recall: {recall:.4f}')\n"
   ]
  },
  {
   "cell_type": "code",
   "execution_count": null,
   "metadata": {},
   "outputs": [],
   "source": []
  },
  {
   "cell_type": "code",
   "execution_count": null,
   "metadata": {},
   "outputs": [],
   "source": []
  },
  {
   "cell_type": "code",
   "execution_count": null,
   "metadata": {},
   "outputs": [],
   "source": []
  },
  {
   "cell_type": "code",
   "execution_count": null,
   "metadata": {},
   "outputs": [],
   "source": []
  },
  {
   "cell_type": "code",
   "execution_count": 24,
   "metadata": {},
   "outputs": [],
   "source": [
    "import dgl\n",
    "dgl_graph = dgl.from_networkx(G)"
   ]
  },
  {
   "cell_type": "code",
   "execution_count": 26,
   "metadata": {},
   "outputs": [],
   "source": [
    "protocol = torch.tensor(data['PROTOCOL'].values)\n",
    "l7_proto = torch.tensor(data['L7_PROTO'].values)\n",
    "in_bytes = torch.tensor(data['IN_BYTES'].values)\n",
    "out_bytes = torch.tensor(data['OUT_BYTES'].values)\n",
    "in_pkts = torch.tensor(data['IN_PKTS'].values)\n",
    "out_pkts = torch.tensor(data['OUT_PKTS'].values)\n",
    "tcp_flags = torch.tensor(data['TCP_FLAGS'].values)\n",
    "flow_duration = torch.tensor(data['FLOW_DURATION_MILLISECONDS'].values)\n",
    "label = torch.tensor(data['label'].values)"
   ]
  },
  {
   "cell_type": "code",
   "execution_count": null,
   "metadata": {},
   "outputs": [],
   "source": [
    "dgl_graph.edata.update({\n",
    "    'protocol': protocol,\n",
    "    'l7_proto': l7_proto,\n",
    "    'in_bytes': in_bytes,\n",
    "    'out_bytes': out_bytes,\n",
    "    'in_pkts': in_pkts,\n",
    "    'out_pkts': out_pkts,\n",
    "    'tcp_flags': tcp_flags,\n",
    "    'flow_duration': flow_duration,\n",
    "    'label': label\n",
    "})\n",
    "print(\"DGLGraph Edges:\", dgl_graph)\n"
   ]
  },
  {
   "cell_type": "code",
   "execution_count": 33,
   "metadata": {},
   "outputs": [],
   "source": [
    "import dgl.nn.pytorch as dgl_nn\n",
    "class GraphSAGE(nn.Module):\n",
    "    def __init__(self, in_feats, hidden_feats, out_feats):\n",
    "        super(GraphSAGE, self).__init__()\n",
    "        # Thêm tham số aggregator_type\n",
    "        self.conv1 = dglnn.SAGEConv(in_feats, hidden_feats, aggregator_type='mean', activation=F.relu)\n",
    "        self.conv2 = dglnn.SAGEConv(hidden_feats, out_feats, aggregator_type='mean')  # Chọn lại kiểu tổng hợp ở đây\n",
    "\n",
    "\n",
    "    def forward(self, g, features):\n",
    "        h = self.conv1(g, features)\n",
    "        h = self.conv2(g, h)\n",
    "        return h"
   ]
  },
  {
   "cell_type": "code",
   "execution_count": null,
   "metadata": {},
   "outputs": [],
   "source": [
    "from torch.optim import Adam\n",
    "train_mask, test_mask = train_test_split(range(len(data)), test_size=0.2, random_state=42)\n",
    "train_labels = dgl_graph.edata['label'][train_mask]\n",
    "test_labels = dgl_graph.edata['label'][test_mask]\n",
    "\n",
    "# Khởi tạo mô hình, optimizer và loss function\n",
    "model = GraphSAGE(in_feats=8, hidden_feats=16, out_feats=2)  # in_feats là số lượng đặc trưng đầu vào\n",
    "optimizer = Adam(model.parameters(), lr=0.01)\n",
    "loss_fn = nn.CrossEntropyLoss()\n",
    "\n",
    "# Huấn luyện mô hình\n",
    "for epoch in range(100):\n",
    "    model.train()\n",
    "    optimizer.zero_grad()\n",
    "    \n",
    "    # Lấy đặc trưng cạnh (ví dụ: sử dụng số bytes hoặc một đặc trưng nào đó)\n",
    "    features = dgl_graph.edata['in_bytes'].float().view(-1, 1)  # Reshape nếu cần\n",
    "    output = model(dgl_graph, features)\n",
    "    \n",
    "    # Tính toán loss và cập nhật\n",
    "    loss = loss_fn(output[train_mask], train_labels)\n",
    "    loss.backward()\n",
    "    optimizer.step()\n",
    "    \n",
    "    if epoch % 10 == 0:\n",
    "        print(f'Epoch {epoch}, Loss: {loss.item()}')"
   ]
  },
  {
   "cell_type": "code",
   "execution_count": null,
   "metadata": {},
   "outputs": [],
   "source": []
  },
  {
   "cell_type": "code",
   "execution_count": null,
   "metadata": {},
   "outputs": [],
   "source": []
  },
  {
   "cell_type": "code",
   "execution_count": null,
   "metadata": {},
   "outputs": [],
   "source": []
  },
  {
   "cell_type": "code",
   "execution_count": null,
   "metadata": {},
   "outputs": [],
   "source": []
  },
  {
   "cell_type": "code",
   "execution_count": null,
   "metadata": {},
   "outputs": [],
   "source": []
  },
  {
   "cell_type": "code",
   "execution_count": null,
   "metadata": {},
   "outputs": [],
   "source": []
  },
  {
   "cell_type": "code",
   "execution_count": null,
   "metadata": {},
   "outputs": [],
   "source": []
  },
  {
   "cell_type": "code",
   "execution_count": null,
   "metadata": {},
   "outputs": [],
   "source": [
    "labels = torch.tensor(data['label'].values)"
   ]
  },
  {
   "cell_type": "code",
   "execution_count": 67,
   "metadata": {},
   "outputs": [],
   "source": [
    "import torch\n",
    "import torch.nn as nn\n",
    "import dgl.function as fn\n",
    "from dgl.nn import SAGEConv\n",
    "from sklearn.model_selection import train_test_split\n",
    "from sklearn.metrics import accuracy_score\n",
    "import torch.optim as optim\n",
    "\n",
    "class GraphSAGEModel(nn.Module):\n",
    "    def __init__(self, in_feats, h_feats, num_classes):\n",
    "        super(GraphSAGEModel, self).__init__()\n",
    "        self.conv1 = SAGEConv(in_feats, h_feats, 'mean')\n",
    "        self.conv2 = SAGEConv(h_feats, num_classes, 'mean')\n",
    "\n",
    "    def forward(self, g, in_feat):\n",
    "        h = self.conv1(g, in_feat)\n",
    "        h = torch.relu(h)\n",
    "        h = self.conv2(g, h)\n",
    "        return h\n",
    "\n",
    "class DGLGraphTrainer:\n",
    "    def __init__(self, dgl_graph, features, labels, num_classes, hidden_size=16, lr=0.01, epochs=100):\n",
    "        self.graph = dgl_graph\n",
    "        self.features = features\n",
    "        self.labels = labels\n",
    "        self.num_classes = num_classes\n",
    "        self.model = GraphSAGEModel(features.shape[1], hidden_size, num_classes)\n",
    "        self.loss_fn = nn.CrossEntropyLoss()\n",
    "        self.optimizer = optim.Adam(self.model.parameters(), lr=lr)\n",
    "        self.epochs = epochs\n",
    "\n",
    "    def train(self, train_idx, train_labels):\n",
    "        self.model.train()\n",
    "        for epoch in range(self.epochs):\n",
    "            # Forward pass\n",
    "            logits = self.model(self.graph, self.features)\n",
    "            loss = self.loss_fn(logits[train_idx], train_labels)\n",
    "\n",
    "            # Backward pass and optimization\n",
    "            self.optimizer.zero_grad()\n",
    "            loss.backward()\n",
    "            self.optimizer.step()\n",
    "\n",
    "            if epoch % 10 == 0:\n",
    "                print(f'Epoch {epoch}/{self.epochs}, Loss: {loss.item()}')\n",
    "\n",
    "    def test(self, test_idx, test_labels):\n",
    "        self.model.eval()\n",
    "        with torch.no_grad():\n",
    "            logits = self.model(self.graph, self.features)\n",
    "            predicted_classes = torch.argmax(logits[test_idx], dim=1)\n",
    "            accuracy = accuracy_score(test_labels.cpu(), predicted_classes.cpu())\n",
    "            print(f'Test Accuracy: {accuracy}')\n",
    "        return accuracy"
   ]
  },
  {
   "cell_type": "code",
   "execution_count": null,
   "metadata": {},
   "outputs": [],
   "source": [
    "model = GCN(\n",
    "    g=a,\n",
    "    in_feats=1000,\n",
    "    n_hidden=200,\n",
    "    n_classes=2,\n",
    "    activation=nn.PReLU(),\n",
    "    dropout=nn.PReLU(),\n",
    ")\n",
    "\n",
    "\n",
    "loss_fcn = nn.CrossEntropyLoss()\n",
    "optimizer = torch.optim.Adam(\n",
    "    model.parameters(), lr=1e-3, weight_decay=5e-4\n",
    ")\n",
    "\n",
    "for epoch in range(200):\n",
    "    model.train()\n",
    "    logits = model(features)\n",
    "    labels_train = process_classids(labels_temp=labels[train_mask_zs])\n",
    "    loss_train = loss_fcn(logits[train_mask_zs], labels_train)\n",
    "    optimizer.zero_grad()\n",
    "    print(\n",
    "        \"Epoch {:d} | Train Loss {:.5f}\".format(\n",
    "            epoch + 1, loss_train.item()\n",
    "        )\n",
    "    )\n",
    "    loss_train.backward()\n",
    "    optimizer.step()\n",
    "model.eval()\n",
    "embeds = model.embed(features)"
   ]
  },
  {
   "cell_type": "code",
   "execution_count": null,
   "metadata": {},
   "outputs": [],
   "source": [
    "data"
   ]
  },
  {
   "cell_type": "code",
   "execution_count": null,
   "metadata": {},
   "outputs": [],
   "source": [
    "\n",
    "# Kiểm tra các loại cột\n",
    "columns = data.columns.tolist()\n",
    "print(\"Các cột trong dữ liệu:\", columns)\n",
    "\n",
    "# Đếm số lượng loại địa chỉ IP, cổng, v.v.\n",
    "unique_src_ips = data['IPV4_SRC_ADDR'].nunique()\n",
    "unique_dst_ips = data['IPV4_DST_ADDR'].nunique()\n",
    "\n",
    "print(f\"Số lượng địa chỉ IP nguồn duy nhất: {unique_src_ips}\")\n",
    "print(f\"Số lượng địa chỉ IP đích duy nhất: {unique_dst_ips}\")\n",
    "\n",
    "# Kiểm tra số lượng lớp (label) khác nhau\n",
    "unique_labels = data['label'].nunique()\n",
    "print(f\"Số lượng lớp khác nhau: {unique_labels}\")\n",
    "\n",
    "# Quyết định sử dụng homograph hay heterograph\n",
    "if unique_src_ips > 1 or unique_dst_ips > 1 :\n",
    "    print(\"Dữ liệu này có thể phù hợp với heterograph.\")\n",
    "else:\n",
    "    print(\"Dữ liệu này có thể phù hợp với homograph.\")"
   ]
  },
  {
   "cell_type": "code",
   "execution_count": null,
   "metadata": {},
   "outputs": [],
   "source": [
    "label_counts = data['label'].value_counts(normalize=True)\n",
    "print(\"Tỷ lệ các lớp trước khi lấy mẫu:\\n\", label_counts)\n",
    "\n",
    "# Lấy mẫu có tỷ lệ lớp không thay đổi\n",
    "sampled_data = data.groupby('label', group_keys=False).apply(lambda x: x.sample(frac=1, random_state=42)).reset_index(drop=True)\n",
    "\n",
    "# Giới hạn số lượng mẫu về 1000\n",
    "if len(sampled_data) > 1000:\n",
    "    sampled_data = sampled_data.sample(n=1000, random_state=42)\n",
    "elif len(sampled_data) < 1000:\n",
    "    print(\"Số lượng mẫu không đủ để lấy 1000.\")\n",
    "\n",
    "# Kiểm tra tỷ lệ lớp sau khi lấy mẫu\n",
    "sampled_label_counts = sampled_data['label'].value_counts(normalize=True)\n",
    "print(\"Tỷ lệ các lớp sau khi lấy mẫu:\\n\", sampled_label_counts)\n",
    "\n",
    "# Lưu mẫu vào file mới nếu cần\n",
    "sampled_data.to_csv('sampled_data.csv', index=False)"
   ]
  },
  {
   "cell_type": "code",
   "execution_count": null,
   "metadata": {},
   "outputs": [],
   "source": [
    "sampled_data"
   ]
  },
  {
   "cell_type": "code",
   "execution_count": null,
   "metadata": {},
   "outputs": [],
   "source": [
    "\n",
    "# Kiểm tra các loại cột\n",
    "columns = sampled_data.columns.tolist()\n",
    "print(\"Các cột trong dữ liệu:\", columns)\n",
    "\n",
    "# Đếm số lượng loại địa chỉ IP, cổng, v.v.\n",
    "unique_src_ips = sampled_data['IPV4_SRC_ADDR'].nunique()\n",
    "unique_dst_ips = sampled_data['IPV4_DST_ADDR'].nunique()\n",
    "\n",
    "print(f\"Số lượng địa chỉ IP nguồn duy nhất: {unique_src_ips}\")\n",
    "print(f\"Số lượng địa chỉ IP đích duy nhất: {unique_dst_ips}\")\n",
    "\n",
    "# Kiểm tra số lượng lớp (label) khác nhau\n",
    "unique_labels = sampled_data['label'].nunique()\n",
    "print(f\"Số lượng lớp khác nhau: {unique_labels}\")\n",
    "\n",
    "# Quyết định sử dụng homograph hay heterograph\n",
    "if unique_src_ips > 1 or unique_dst_ips > 1 :\n",
    "    print(\"Dữ liệu này có thể phù hợp với heterograph.\")\n",
    "else:\n",
    "    print(\"Dữ liệu này có thể phù hợp với homograph.\")"
   ]
  },
  {
   "cell_type": "code",
   "execution_count": null,
   "metadata": {},
   "outputs": [],
   "source": []
  }
 ],
 "metadata": {
  "kernelspec": {
   "display_name": ".venv",
   "language": "python",
   "name": "python3"
  },
  "language_info": {
   "codemirror_mode": {
    "name": "ipython",
    "version": 3
   },
   "file_extension": ".py",
   "mimetype": "text/x-python",
   "name": "python",
   "nbconvert_exporter": "python",
   "pygments_lexer": "ipython3",
   "version": "3.11.0"
  }
 },
 "nbformat": 4,
 "nbformat_minor": 2
}
