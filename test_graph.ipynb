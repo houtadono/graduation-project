{
 "cells": [
  {
   "cell_type": "code",
   "metadata": {
    "ExecuteTime": {
     "end_time": "2024-10-09T09:43:33.093517Z",
     "start_time": "2024-10-09T09:43:33.014407Z"
    }
   },
   "source": [
    "import torch\n",
    "import torch.nn as nn\n",
    "import torch.nn.functional as F\n",
    "from torch_geometric.nn import MessagePassing, global_mean_pool\n",
    "from torch_geometric.data import Data, DataLoader\n",
    "\n",
    "class EGNNLayer(MessagePassing):\n",
    "    def __init__(self, in_channels, out_channels):\n",
    "        super(EGNNLayer, self).__init__(aggr='mean')  # Sử dụng trung bình để tổng hợp\n",
    "        self.linear_edge = nn.Linear(in_channels, out_channels)\n",
    "        self.linear_node = nn.Linear(in_channels, out_channels)\n",
    "\n",
    "    def forward(self, x, edge_index, edge_attr):\n",
    "        # Lấy thông tin từ các node lân cận\n",
    "        # Cần phải chỉnh sửa phần này\n",
    "        edge_embedding = self.linear_edge(edge_attr)\n",
    "        node_embedding = self.linear_node(x)\n",
    "\n",
    "        # Tính toán các thông tin từ các node lân cận\n",
    "        out = self.propagate(edge_index, x=node_embedding, edge_attr=edge_embedding)\n",
    "        return out\n",
    "\n",
    "    def message(self, x_j, edge_attr):\n",
    "        # Tính toán thông điệp từ các node lân cận\n",
    "        return x_j + edge_attr  # Có thể thay đổi theo bài toán\n",
    "\n",
    "    def update(self, aggr_out):\n",
    "        return aggr_out  # Trả về đầu ra đã tổng hợp\n",
    "\n",
    "class EGNN(nn.Module):\n",
    "    def __init__(self, num_node_features, num_edge_features, hidden_dim, num_classes):\n",
    "        super(EGNN, self).__init__()\n",
    "        self.layer1 = EGNNLayer(num_node_features + num_edge_features, hidden_dim)\n",
    "        self.layer2 = EGNNLayer(hidden_dim, hidden_dim)\n",
    "        self.fc = nn.Linear(hidden_dim, num_classes)\n",
    "\n",
    "    def forward(self, data):\n",
    "        x, edge_index, edge_attr, batch = data.x, data.edge_index, data.edge_attr, data.batch\n",
    "\n",
    "        # Thực hiện hai lớp EGNN\n",
    "        x = self.layer1(x, edge_index, edge_attr)\n",
    "        x = F.relu(x)\n",
    "        x = self.layer2(x, edge_index, edge_attr)\n",
    "\n",
    "        # Sử dụng global pooling\n",
    "        x = global_mean_pool(x, batch)\n",
    "        x = self.fc(x)\n",
    "\n",
    "        return F.log_softmax(x, dim=1)\n",
    "# Ví dụ về cách sử dụng EGNN\n",
    "def main():\n",
    "    # Tạo dữ liệu mẫu (bạn nên thay thế bằng dữ liệu thực tế của bạn)\n",
    "    num_node_features = 3  # Số lượng đặc trưng của node\n",
    "    num_edge_features = 2  # Số lượng đặc trưng của cạnh\n",
    "    num_classes = 2\n",
    "    hidden_dim = 16\n",
    "\n",
    "    # Tạo một đồ thị mẫu\n",
    "    x = torch.rand((4, num_node_features))  # 4 nodes\n",
    "    edge_index = torch.tensor([[0, 1, 2, 0],\n",
    "                                [1, 0, 0, 2]], dtype=torch.long)  # Edges\n",
    "    edge_attr = torch.rand((3, num_edge_features))  # 3 edges\n",
    "    data = Data(x=x, edge_index=edge_index, edge_attr=edge_attr)\n",
    "\n",
    "    model = EGNN(num_node_features, num_edge_features, hidden_dim, num_classes)\n",
    "    optimizer = torch.optim.Adam(model.parameters(), lr=0.01)\n",
    "\n",
    "    # Huấn luyện mô hình\n",
    "    model.train()\n",
    "    for epoch in range(100):\n",
    "        optimizer.zero_grad()\n",
    "        out = model(data)\n",
    "        loss = F.nll_loss(out, torch.tensor([0]))  # Giả sử nhãn là 0 cho ví dụ\n",
    "        loss.backward()\n",
    "        optimizer.step()\n",
    "        print(f'Epoch {epoch}: Loss {loss.item()}')"
   ],
   "outputs": [],
   "execution_count": 6
  },
  {
   "metadata": {
    "ExecuteTime": {
     "end_time": "2024-10-09T09:43:42.772809Z",
     "start_time": "2024-10-09T09:43:42.705036Z"
    }
   },
   "cell_type": "code",
   "source": "1",
   "outputs": [
    {
     "data": {
      "text/plain": [
       "1"
      ]
     },
     "execution_count": 7,
     "metadata": {},
     "output_type": "execute_result"
    }
   ],
   "execution_count": 7
  },
  {
   "metadata": {
    "ExecuteTime": {
     "end_time": "2024-10-09T09:43:45.761579Z",
     "start_time": "2024-10-09T09:43:45.736828Z"
    }
   },
   "cell_type": "code",
   "source": [
    "import torch\n",
    "import torch.nn as nn\n",
    "import torch.nn.functional as F\n",
    "from torch_geometric.nn import MessagePassing, global_mean_pool\n",
    "from torch_geometric.data import Data, DataLoader\n",
    "\n",
    "class EGNNLayer(MessagePassing):\n",
    "    def __init__(self, in_channels, out_channels):\n",
    "        super(EGNNLayer, self).__init__(aggr='mean')  # Sử dụng trung bình để tổng hợp\n",
    "        self.linear_edge = nn.Linear(in_channels, out_channels)\n",
    "        self.linear_node = nn.Linear(in_channels, out_channels)\n",
    "\n",
    "    def forward(self, x, edge_index, edge_attr):\n",
    "        # Lấy thông tin từ các node lân cận\n",
    "        # Cần phải chỉnh sửa phần này\n",
    "        edge_embedding = self.linear_edge(edge_attr)\n",
    "        node_embedding = self.linear_node(x)\n",
    "\n",
    "        # Tính toán các thông tin từ các node lân cận\n",
    "        out = self.propagate(edge_index, x=node_embedding, edge_attr=edge_embedding)\n",
    "        return out\n",
    "\n",
    "    def message(self, x_j, edge_attr):\n",
    "        # Tính toán thông điệp từ các node lân cận\n",
    "        return x_j + edge_attr  # Có thể thay đổi theo bài toán\n",
    "\n",
    "    def update(self, aggr_out):\n",
    "        return aggr_out  # Trả về đầu ra đã tổng hợp\n",
    "\n",
    "class EGNN(nn.Module):\n",
    "    def __init__(self, num_node_features, num_edge_features, hidden_dim, num_classes):\n",
    "        super(EGNN, self).__init__()\n",
    "        self.layer1 = EGNNLayer(num_node_features + num_edge_features, hidden_dim)\n",
    "        self.layer2 = EGNNLayer(hidden_dim, hidden_dim)\n",
    "        self.fc = nn.Linear(hidden_dim, num_classes)\n",
    "\n",
    "    def forward(self, data):\n",
    "        x, edge_index, edge_attr, batch = data.x, data.edge_index, data.edge_attr, data.batch\n",
    "\n",
    "        # Thực hiện hai lớp EGNN\n",
    "        x = self.layer1(x, edge_index, edge_attr)\n",
    "        x = F.relu(x)\n",
    "        x = self.layer2(x, edge_index, edge_attr)\n",
    "\n",
    "        # Sử dụng global pooling\n",
    "        x = global_mean_pool(x, batch)\n",
    "        x = self.fc(x)\n",
    "\n",
    "        return F.log_softmax(x, dim=1)\n",
    "# Ví dụ về cách sử dụng EGNN\n",
    "def main():\n",
    "    # Tạo dữ liệu mẫu (bạn nên thay thế bằng dữ liệu thực tế của bạn)\n",
    "    num_node_features = 3  # Số lượng đặc trưng của node\n",
    "    num_edge_features = 2  # Số lượng đặc trưng của cạnh\n",
    "    num_classes = 2\n",
    "    hidden_dim = 16\n",
    "\n",
    "    # Tạo một đồ thị mẫu\n",
    "    x = torch.rand((4, num_node_features))  # 4 nodes\n",
    "    edge_index = torch.tensor([[0, 1, 2, 0],\n",
    "                                [1, 0, 0, 2]], dtype=torch.long)  # Edges\n",
    "    edge_attr = torch.rand((3, num_edge_features))  # 3 edges\n",
    "    data = Data(x=x, edge_index=edge_index, edge_attr=edge_attr)\n",
    "\n",
    "    model = EGNN(num_node_features, num_edge_features, hidden_dim, num_classes)\n",
    "    optimizer = torch.optim.Adam(model.parameters(), lr=0.01)\n",
    "\n",
    "    # Huấn luyện mô hình\n",
    "    model.train()\n",
    "    for epoch in range(100):\n",
    "        optimizer.zero_grad()\n",
    "        out = model(data)\n",
    "        loss = F.nll_loss(out, torch.tensor([0]))  # Giả sử nhãn là 0 cho ví dụ\n",
    "        loss.backward()\n",
    "        optimizer.step()\n",
    "        print(f'Epoch {epoch}: Loss {loss.item()}')"
   ],
   "outputs": [],
   "execution_count": 8
  },
  {
   "metadata": {
    "ExecuteTime": {
     "end_time": "2024-10-09T09:43:53.455003Z",
     "start_time": "2024-10-09T09:43:52.055661Z"
    }
   },
   "cell_type": "code",
   "source": "main()",
   "outputs": [
    {
     "ename": "RuntimeError",
     "evalue": "mat1 and mat2 shapes cannot be multiplied (3x2 and 5x16)",
     "output_type": "error",
     "traceback": [
      "\u001B[1;31m---------------------------------------------------------------------------\u001B[0m",
      "\u001B[1;31mRuntimeError\u001B[0m                              Traceback (most recent call last)",
      "Cell \u001B[1;32mIn[9], line 1\u001B[0m\n\u001B[1;32m----> 1\u001B[0m \u001B[43mmain\u001B[49m\u001B[43m(\u001B[49m\u001B[43m)\u001B[49m\n",
      "Cell \u001B[1;32mIn[8], line 72\u001B[0m, in \u001B[0;36mmain\u001B[1;34m()\u001B[0m\n\u001B[0;32m     70\u001B[0m \u001B[38;5;28;01mfor\u001B[39;00m epoch \u001B[38;5;129;01min\u001B[39;00m \u001B[38;5;28mrange\u001B[39m(\u001B[38;5;241m100\u001B[39m):\n\u001B[0;32m     71\u001B[0m     optimizer\u001B[38;5;241m.\u001B[39mzero_grad()\n\u001B[1;32m---> 72\u001B[0m     out \u001B[38;5;241m=\u001B[39m \u001B[43mmodel\u001B[49m\u001B[43m(\u001B[49m\u001B[43mdata\u001B[49m\u001B[43m)\u001B[49m\n\u001B[0;32m     73\u001B[0m     loss \u001B[38;5;241m=\u001B[39m F\u001B[38;5;241m.\u001B[39mnll_loss(out, torch\u001B[38;5;241m.\u001B[39mtensor([\u001B[38;5;241m0\u001B[39m]))  \u001B[38;5;66;03m# Giả sử nhãn là 0 cho ví dụ\u001B[39;00m\n\u001B[0;32m     74\u001B[0m     loss\u001B[38;5;241m.\u001B[39mbackward()\n",
      "File \u001B[1;32mD:\\DoAn\\.venv\\Lib\\site-packages\\torch\\nn\\modules\\module.py:1532\u001B[0m, in \u001B[0;36mModule._wrapped_call_impl\u001B[1;34m(self, *args, **kwargs)\u001B[0m\n\u001B[0;32m   1530\u001B[0m     \u001B[38;5;28;01mreturn\u001B[39;00m \u001B[38;5;28mself\u001B[39m\u001B[38;5;241m.\u001B[39m_compiled_call_impl(\u001B[38;5;241m*\u001B[39margs, \u001B[38;5;241m*\u001B[39m\u001B[38;5;241m*\u001B[39mkwargs)  \u001B[38;5;66;03m# type: ignore[misc]\u001B[39;00m\n\u001B[0;32m   1531\u001B[0m \u001B[38;5;28;01melse\u001B[39;00m:\n\u001B[1;32m-> 1532\u001B[0m     \u001B[38;5;28;01mreturn\u001B[39;00m \u001B[38;5;28;43mself\u001B[39;49m\u001B[38;5;241;43m.\u001B[39;49m\u001B[43m_call_impl\u001B[49m\u001B[43m(\u001B[49m\u001B[38;5;241;43m*\u001B[39;49m\u001B[43margs\u001B[49m\u001B[43m,\u001B[49m\u001B[43m \u001B[49m\u001B[38;5;241;43m*\u001B[39;49m\u001B[38;5;241;43m*\u001B[39;49m\u001B[43mkwargs\u001B[49m\u001B[43m)\u001B[49m\n",
      "File \u001B[1;32mD:\\DoAn\\.venv\\Lib\\site-packages\\torch\\nn\\modules\\module.py:1541\u001B[0m, in \u001B[0;36mModule._call_impl\u001B[1;34m(self, *args, **kwargs)\u001B[0m\n\u001B[0;32m   1536\u001B[0m \u001B[38;5;66;03m# If we don't have any hooks, we want to skip the rest of the logic in\u001B[39;00m\n\u001B[0;32m   1537\u001B[0m \u001B[38;5;66;03m# this function, and just call forward.\u001B[39;00m\n\u001B[0;32m   1538\u001B[0m \u001B[38;5;28;01mif\u001B[39;00m \u001B[38;5;129;01mnot\u001B[39;00m (\u001B[38;5;28mself\u001B[39m\u001B[38;5;241m.\u001B[39m_backward_hooks \u001B[38;5;129;01mor\u001B[39;00m \u001B[38;5;28mself\u001B[39m\u001B[38;5;241m.\u001B[39m_backward_pre_hooks \u001B[38;5;129;01mor\u001B[39;00m \u001B[38;5;28mself\u001B[39m\u001B[38;5;241m.\u001B[39m_forward_hooks \u001B[38;5;129;01mor\u001B[39;00m \u001B[38;5;28mself\u001B[39m\u001B[38;5;241m.\u001B[39m_forward_pre_hooks\n\u001B[0;32m   1539\u001B[0m         \u001B[38;5;129;01mor\u001B[39;00m _global_backward_pre_hooks \u001B[38;5;129;01mor\u001B[39;00m _global_backward_hooks\n\u001B[0;32m   1540\u001B[0m         \u001B[38;5;129;01mor\u001B[39;00m _global_forward_hooks \u001B[38;5;129;01mor\u001B[39;00m _global_forward_pre_hooks):\n\u001B[1;32m-> 1541\u001B[0m     \u001B[38;5;28;01mreturn\u001B[39;00m \u001B[43mforward_call\u001B[49m\u001B[43m(\u001B[49m\u001B[38;5;241;43m*\u001B[39;49m\u001B[43margs\u001B[49m\u001B[43m,\u001B[49m\u001B[43m \u001B[49m\u001B[38;5;241;43m*\u001B[39;49m\u001B[38;5;241;43m*\u001B[39;49m\u001B[43mkwargs\u001B[49m\u001B[43m)\u001B[49m\n\u001B[0;32m   1543\u001B[0m \u001B[38;5;28;01mtry\u001B[39;00m:\n\u001B[0;32m   1544\u001B[0m     result \u001B[38;5;241m=\u001B[39m \u001B[38;5;28;01mNone\u001B[39;00m\n",
      "Cell \u001B[1;32mIn[8], line 41\u001B[0m, in \u001B[0;36mEGNN.forward\u001B[1;34m(self, data)\u001B[0m\n\u001B[0;32m     38\u001B[0m x, edge_index, edge_attr, batch \u001B[38;5;241m=\u001B[39m data\u001B[38;5;241m.\u001B[39mx, data\u001B[38;5;241m.\u001B[39medge_index, data\u001B[38;5;241m.\u001B[39medge_attr, data\u001B[38;5;241m.\u001B[39mbatch\n\u001B[0;32m     40\u001B[0m \u001B[38;5;66;03m# Thực hiện hai lớp EGNN\u001B[39;00m\n\u001B[1;32m---> 41\u001B[0m x \u001B[38;5;241m=\u001B[39m \u001B[38;5;28;43mself\u001B[39;49m\u001B[38;5;241;43m.\u001B[39;49m\u001B[43mlayer1\u001B[49m\u001B[43m(\u001B[49m\u001B[43mx\u001B[49m\u001B[43m,\u001B[49m\u001B[43m \u001B[49m\u001B[43medge_index\u001B[49m\u001B[43m,\u001B[49m\u001B[43m \u001B[49m\u001B[43medge_attr\u001B[49m\u001B[43m)\u001B[49m\n\u001B[0;32m     42\u001B[0m x \u001B[38;5;241m=\u001B[39m F\u001B[38;5;241m.\u001B[39mrelu(x)\n\u001B[0;32m     43\u001B[0m x \u001B[38;5;241m=\u001B[39m \u001B[38;5;28mself\u001B[39m\u001B[38;5;241m.\u001B[39mlayer2(x, edge_index, edge_attr)\n",
      "File \u001B[1;32mD:\\DoAn\\.venv\\Lib\\site-packages\\torch\\nn\\modules\\module.py:1532\u001B[0m, in \u001B[0;36mModule._wrapped_call_impl\u001B[1;34m(self, *args, **kwargs)\u001B[0m\n\u001B[0;32m   1530\u001B[0m     \u001B[38;5;28;01mreturn\u001B[39;00m \u001B[38;5;28mself\u001B[39m\u001B[38;5;241m.\u001B[39m_compiled_call_impl(\u001B[38;5;241m*\u001B[39margs, \u001B[38;5;241m*\u001B[39m\u001B[38;5;241m*\u001B[39mkwargs)  \u001B[38;5;66;03m# type: ignore[misc]\u001B[39;00m\n\u001B[0;32m   1531\u001B[0m \u001B[38;5;28;01melse\u001B[39;00m:\n\u001B[1;32m-> 1532\u001B[0m     \u001B[38;5;28;01mreturn\u001B[39;00m \u001B[38;5;28;43mself\u001B[39;49m\u001B[38;5;241;43m.\u001B[39;49m\u001B[43m_call_impl\u001B[49m\u001B[43m(\u001B[49m\u001B[38;5;241;43m*\u001B[39;49m\u001B[43margs\u001B[49m\u001B[43m,\u001B[49m\u001B[43m \u001B[49m\u001B[38;5;241;43m*\u001B[39;49m\u001B[38;5;241;43m*\u001B[39;49m\u001B[43mkwargs\u001B[49m\u001B[43m)\u001B[49m\n",
      "File \u001B[1;32mD:\\DoAn\\.venv\\Lib\\site-packages\\torch\\nn\\modules\\module.py:1541\u001B[0m, in \u001B[0;36mModule._call_impl\u001B[1;34m(self, *args, **kwargs)\u001B[0m\n\u001B[0;32m   1536\u001B[0m \u001B[38;5;66;03m# If we don't have any hooks, we want to skip the rest of the logic in\u001B[39;00m\n\u001B[0;32m   1537\u001B[0m \u001B[38;5;66;03m# this function, and just call forward.\u001B[39;00m\n\u001B[0;32m   1538\u001B[0m \u001B[38;5;28;01mif\u001B[39;00m \u001B[38;5;129;01mnot\u001B[39;00m (\u001B[38;5;28mself\u001B[39m\u001B[38;5;241m.\u001B[39m_backward_hooks \u001B[38;5;129;01mor\u001B[39;00m \u001B[38;5;28mself\u001B[39m\u001B[38;5;241m.\u001B[39m_backward_pre_hooks \u001B[38;5;129;01mor\u001B[39;00m \u001B[38;5;28mself\u001B[39m\u001B[38;5;241m.\u001B[39m_forward_hooks \u001B[38;5;129;01mor\u001B[39;00m \u001B[38;5;28mself\u001B[39m\u001B[38;5;241m.\u001B[39m_forward_pre_hooks\n\u001B[0;32m   1539\u001B[0m         \u001B[38;5;129;01mor\u001B[39;00m _global_backward_pre_hooks \u001B[38;5;129;01mor\u001B[39;00m _global_backward_hooks\n\u001B[0;32m   1540\u001B[0m         \u001B[38;5;129;01mor\u001B[39;00m _global_forward_hooks \u001B[38;5;129;01mor\u001B[39;00m _global_forward_pre_hooks):\n\u001B[1;32m-> 1541\u001B[0m     \u001B[38;5;28;01mreturn\u001B[39;00m \u001B[43mforward_call\u001B[49m\u001B[43m(\u001B[49m\u001B[38;5;241;43m*\u001B[39;49m\u001B[43margs\u001B[49m\u001B[43m,\u001B[49m\u001B[43m \u001B[49m\u001B[38;5;241;43m*\u001B[39;49m\u001B[38;5;241;43m*\u001B[39;49m\u001B[43mkwargs\u001B[49m\u001B[43m)\u001B[49m\n\u001B[0;32m   1543\u001B[0m \u001B[38;5;28;01mtry\u001B[39;00m:\n\u001B[0;32m   1544\u001B[0m     result \u001B[38;5;241m=\u001B[39m \u001B[38;5;28;01mNone\u001B[39;00m\n",
      "Cell \u001B[1;32mIn[8], line 16\u001B[0m, in \u001B[0;36mEGNNLayer.forward\u001B[1;34m(self, x, edge_index, edge_attr)\u001B[0m\n\u001B[0;32m     13\u001B[0m \u001B[38;5;28;01mdef\u001B[39;00m \u001B[38;5;21mforward\u001B[39m(\u001B[38;5;28mself\u001B[39m, x, edge_index, edge_attr):\n\u001B[0;32m     14\u001B[0m     \u001B[38;5;66;03m# Lấy thông tin từ các node lân cận\u001B[39;00m\n\u001B[0;32m     15\u001B[0m     \u001B[38;5;66;03m# Cần phải chỉnh sửa phần này\u001B[39;00m\n\u001B[1;32m---> 16\u001B[0m     edge_embedding \u001B[38;5;241m=\u001B[39m \u001B[38;5;28;43mself\u001B[39;49m\u001B[38;5;241;43m.\u001B[39;49m\u001B[43mlinear_edge\u001B[49m\u001B[43m(\u001B[49m\u001B[43medge_attr\u001B[49m\u001B[43m)\u001B[49m\n\u001B[0;32m     17\u001B[0m     node_embedding \u001B[38;5;241m=\u001B[39m \u001B[38;5;28mself\u001B[39m\u001B[38;5;241m.\u001B[39mlinear_node(x)\n\u001B[0;32m     19\u001B[0m     \u001B[38;5;66;03m# Tính toán các thông tin từ các node lân cận\u001B[39;00m\n",
      "File \u001B[1;32mD:\\DoAn\\.venv\\Lib\\site-packages\\torch\\nn\\modules\\module.py:1532\u001B[0m, in \u001B[0;36mModule._wrapped_call_impl\u001B[1;34m(self, *args, **kwargs)\u001B[0m\n\u001B[0;32m   1530\u001B[0m     \u001B[38;5;28;01mreturn\u001B[39;00m \u001B[38;5;28mself\u001B[39m\u001B[38;5;241m.\u001B[39m_compiled_call_impl(\u001B[38;5;241m*\u001B[39margs, \u001B[38;5;241m*\u001B[39m\u001B[38;5;241m*\u001B[39mkwargs)  \u001B[38;5;66;03m# type: ignore[misc]\u001B[39;00m\n\u001B[0;32m   1531\u001B[0m \u001B[38;5;28;01melse\u001B[39;00m:\n\u001B[1;32m-> 1532\u001B[0m     \u001B[38;5;28;01mreturn\u001B[39;00m \u001B[38;5;28;43mself\u001B[39;49m\u001B[38;5;241;43m.\u001B[39;49m\u001B[43m_call_impl\u001B[49m\u001B[43m(\u001B[49m\u001B[38;5;241;43m*\u001B[39;49m\u001B[43margs\u001B[49m\u001B[43m,\u001B[49m\u001B[43m \u001B[49m\u001B[38;5;241;43m*\u001B[39;49m\u001B[38;5;241;43m*\u001B[39;49m\u001B[43mkwargs\u001B[49m\u001B[43m)\u001B[49m\n",
      "File \u001B[1;32mD:\\DoAn\\.venv\\Lib\\site-packages\\torch\\nn\\modules\\module.py:1541\u001B[0m, in \u001B[0;36mModule._call_impl\u001B[1;34m(self, *args, **kwargs)\u001B[0m\n\u001B[0;32m   1536\u001B[0m \u001B[38;5;66;03m# If we don't have any hooks, we want to skip the rest of the logic in\u001B[39;00m\n\u001B[0;32m   1537\u001B[0m \u001B[38;5;66;03m# this function, and just call forward.\u001B[39;00m\n\u001B[0;32m   1538\u001B[0m \u001B[38;5;28;01mif\u001B[39;00m \u001B[38;5;129;01mnot\u001B[39;00m (\u001B[38;5;28mself\u001B[39m\u001B[38;5;241m.\u001B[39m_backward_hooks \u001B[38;5;129;01mor\u001B[39;00m \u001B[38;5;28mself\u001B[39m\u001B[38;5;241m.\u001B[39m_backward_pre_hooks \u001B[38;5;129;01mor\u001B[39;00m \u001B[38;5;28mself\u001B[39m\u001B[38;5;241m.\u001B[39m_forward_hooks \u001B[38;5;129;01mor\u001B[39;00m \u001B[38;5;28mself\u001B[39m\u001B[38;5;241m.\u001B[39m_forward_pre_hooks\n\u001B[0;32m   1539\u001B[0m         \u001B[38;5;129;01mor\u001B[39;00m _global_backward_pre_hooks \u001B[38;5;129;01mor\u001B[39;00m _global_backward_hooks\n\u001B[0;32m   1540\u001B[0m         \u001B[38;5;129;01mor\u001B[39;00m _global_forward_hooks \u001B[38;5;129;01mor\u001B[39;00m _global_forward_pre_hooks):\n\u001B[1;32m-> 1541\u001B[0m     \u001B[38;5;28;01mreturn\u001B[39;00m \u001B[43mforward_call\u001B[49m\u001B[43m(\u001B[49m\u001B[38;5;241;43m*\u001B[39;49m\u001B[43margs\u001B[49m\u001B[43m,\u001B[49m\u001B[43m \u001B[49m\u001B[38;5;241;43m*\u001B[39;49m\u001B[38;5;241;43m*\u001B[39;49m\u001B[43mkwargs\u001B[49m\u001B[43m)\u001B[49m\n\u001B[0;32m   1543\u001B[0m \u001B[38;5;28;01mtry\u001B[39;00m:\n\u001B[0;32m   1544\u001B[0m     result \u001B[38;5;241m=\u001B[39m \u001B[38;5;28;01mNone\u001B[39;00m\n",
      "File \u001B[1;32mD:\\DoAn\\.venv\\Lib\\site-packages\\torch\\nn\\modules\\linear.py:116\u001B[0m, in \u001B[0;36mLinear.forward\u001B[1;34m(self, input)\u001B[0m\n\u001B[0;32m    115\u001B[0m \u001B[38;5;28;01mdef\u001B[39;00m \u001B[38;5;21mforward\u001B[39m(\u001B[38;5;28mself\u001B[39m, \u001B[38;5;28minput\u001B[39m: Tensor) \u001B[38;5;241m-\u001B[39m\u001B[38;5;241m>\u001B[39m Tensor:\n\u001B[1;32m--> 116\u001B[0m     \u001B[38;5;28;01mreturn\u001B[39;00m \u001B[43mF\u001B[49m\u001B[38;5;241;43m.\u001B[39;49m\u001B[43mlinear\u001B[49m\u001B[43m(\u001B[49m\u001B[38;5;28;43minput\u001B[39;49m\u001B[43m,\u001B[49m\u001B[43m \u001B[49m\u001B[38;5;28;43mself\u001B[39;49m\u001B[38;5;241;43m.\u001B[39;49m\u001B[43mweight\u001B[49m\u001B[43m,\u001B[49m\u001B[43m \u001B[49m\u001B[38;5;28;43mself\u001B[39;49m\u001B[38;5;241;43m.\u001B[39;49m\u001B[43mbias\u001B[49m\u001B[43m)\u001B[49m\n",
      "\u001B[1;31mRuntimeError\u001B[0m: mat1 and mat2 shapes cannot be multiplied (3x2 and 5x16)"
     ]
    }
   ],
   "execution_count": 9
  },
  {
   "cell_type": "code",
   "execution_count": 2,
   "metadata": {},
   "outputs": [
    {
     "ename": "AttributeError",
     "evalue": "'str' object has no attribute 'values'",
     "output_type": "error",
     "traceback": [
      "\u001B[1;31m---------------------------------------------------------------------------\u001B[0m",
      "\u001B[1;31mAttributeError\u001B[0m                            Traceback (most recent call last)",
      "Cell \u001B[1;32mIn[2], line 36\u001B[0m\n\u001B[0;32m     33\u001B[0m \u001B[38;5;66;03m# Thêm thuộc tính cạnh vào đồ thị DGL\u001B[39;00m\n\u001B[0;32m     34\u001B[0m \u001B[38;5;28;01mfor\u001B[39;00m attr \u001B[38;5;129;01min\u001B[39;00m [\u001B[38;5;124m'\u001B[39m\u001B[38;5;124mPROTOCOL\u001B[39m\u001B[38;5;124m'\u001B[39m, \u001B[38;5;124m'\u001B[39m\u001B[38;5;124mL7_PROTO\u001B[39m\u001B[38;5;124m'\u001B[39m, \u001B[38;5;124m'\u001B[39m\u001B[38;5;124mIN_BYTES\u001B[39m\u001B[38;5;124m'\u001B[39m, \u001B[38;5;124m'\u001B[39m\u001B[38;5;124mOUT_BYTES\u001B[39m\u001B[38;5;124m'\u001B[39m, \n\u001B[0;32m     35\u001B[0m              \u001B[38;5;124m'\u001B[39m\u001B[38;5;124mIN_PKTS\u001B[39m\u001B[38;5;124m'\u001B[39m, \u001B[38;5;124m'\u001B[39m\u001B[38;5;124mOUT_PKTS\u001B[39m\u001B[38;5;124m'\u001B[39m, \u001B[38;5;124m'\u001B[39m\u001B[38;5;124mTCP_FLAGS\u001B[39m\u001B[38;5;124m'\u001B[39m, \u001B[38;5;124m'\u001B[39m\u001B[38;5;124mFLOW_DURATION_MILLISECONDS\u001B[39m\u001B[38;5;124m'\u001B[39m, \u001B[38;5;124m'\u001B[39m\u001B[38;5;124mlabel\u001B[39m\u001B[38;5;124m'\u001B[39m]:\n\u001B[1;32m---> 36\u001B[0m     dgl_graph\u001B[38;5;241m.\u001B[39medata[attr] \u001B[38;5;241m=\u001B[39m torch\u001B[38;5;241m.\u001B[39mtensor(\u001B[43m[\u001B[49m\u001B[43mdata\u001B[49m\u001B[43m[\u001B[49m\u001B[43mattr\u001B[49m\u001B[43m]\u001B[49m\u001B[38;5;241;43m.\u001B[39;49m\u001B[43mvalues\u001B[49m\u001B[43m \u001B[49m\u001B[38;5;28;43;01mfor\u001B[39;49;00m\u001B[43m \u001B[49m\u001B[43m_\u001B[49m\u001B[43m,\u001B[49m\u001B[43m \u001B[49m\u001B[43m_\u001B[49m\u001B[43m,\u001B[49m\u001B[43m \u001B[49m\u001B[43mdata\u001B[49m\u001B[43m \u001B[49m\u001B[38;5;129;43;01min\u001B[39;49;00m\u001B[43m \u001B[49m\u001B[43mG\u001B[49m\u001B[38;5;241;43m.\u001B[39;49m\u001B[43medges\u001B[49m\u001B[43m(\u001B[49m\u001B[43mdata\u001B[49m\u001B[38;5;241;43m=\u001B[39;49m\u001B[38;5;28;43;01mTrue\u001B[39;49;00m\u001B[43m)\u001B[49m\u001B[43m]\u001B[49m)\n\u001B[0;32m     38\u001B[0m \u001B[38;5;66;03m# Kiểm tra thông tin edata\u001B[39;00m\n\u001B[0;32m     39\u001B[0m \u001B[38;5;28mprint\u001B[39m(\u001B[38;5;124m\"\u001B[39m\u001B[38;5;124mDGLGraph Edges:\u001B[39m\u001B[38;5;124m\"\u001B[39m, dgl_graph\u001B[38;5;241m.\u001B[39medges())\n",
      "Cell \u001B[1;32mIn[2], line 36\u001B[0m, in \u001B[0;36m<listcomp>\u001B[1;34m(.0)\u001B[0m\n\u001B[0;32m     33\u001B[0m \u001B[38;5;66;03m# Thêm thuộc tính cạnh vào đồ thị DGL\u001B[39;00m\n\u001B[0;32m     34\u001B[0m \u001B[38;5;28;01mfor\u001B[39;00m attr \u001B[38;5;129;01min\u001B[39;00m [\u001B[38;5;124m'\u001B[39m\u001B[38;5;124mPROTOCOL\u001B[39m\u001B[38;5;124m'\u001B[39m, \u001B[38;5;124m'\u001B[39m\u001B[38;5;124mL7_PROTO\u001B[39m\u001B[38;5;124m'\u001B[39m, \u001B[38;5;124m'\u001B[39m\u001B[38;5;124mIN_BYTES\u001B[39m\u001B[38;5;124m'\u001B[39m, \u001B[38;5;124m'\u001B[39m\u001B[38;5;124mOUT_BYTES\u001B[39m\u001B[38;5;124m'\u001B[39m, \n\u001B[0;32m     35\u001B[0m              \u001B[38;5;124m'\u001B[39m\u001B[38;5;124mIN_PKTS\u001B[39m\u001B[38;5;124m'\u001B[39m, \u001B[38;5;124m'\u001B[39m\u001B[38;5;124mOUT_PKTS\u001B[39m\u001B[38;5;124m'\u001B[39m, \u001B[38;5;124m'\u001B[39m\u001B[38;5;124mTCP_FLAGS\u001B[39m\u001B[38;5;124m'\u001B[39m, \u001B[38;5;124m'\u001B[39m\u001B[38;5;124mFLOW_DURATION_MILLISECONDS\u001B[39m\u001B[38;5;124m'\u001B[39m, \u001B[38;5;124m'\u001B[39m\u001B[38;5;124mlabel\u001B[39m\u001B[38;5;124m'\u001B[39m]:\n\u001B[1;32m---> 36\u001B[0m     dgl_graph\u001B[38;5;241m.\u001B[39medata[attr] \u001B[38;5;241m=\u001B[39m torch\u001B[38;5;241m.\u001B[39mtensor([\u001B[43mdata\u001B[49m\u001B[43m[\u001B[49m\u001B[43mattr\u001B[49m\u001B[43m]\u001B[49m\u001B[38;5;241;43m.\u001B[39;49m\u001B[43mvalues\u001B[49m \u001B[38;5;28;01mfor\u001B[39;00m _, _, data \u001B[38;5;129;01min\u001B[39;00m G\u001B[38;5;241m.\u001B[39medges(data\u001B[38;5;241m=\u001B[39m\u001B[38;5;28;01mTrue\u001B[39;00m)])\n\u001B[0;32m     38\u001B[0m \u001B[38;5;66;03m# Kiểm tra thông tin edata\u001B[39;00m\n\u001B[0;32m     39\u001B[0m \u001B[38;5;28mprint\u001B[39m(\u001B[38;5;124m\"\u001B[39m\u001B[38;5;124mDGLGraph Edges:\u001B[39m\u001B[38;5;124m\"\u001B[39m, dgl_graph\u001B[38;5;241m.\u001B[39medges())\n",
      "\u001B[1;31mAttributeError\u001B[0m: 'str' object has no attribute 'values'"
     ]
    }
   ],
   "source": [
    "import dgl\n",
    "import pandas as pd\n",
    "import networkx as nx\n",
    "import torch\n",
    "# Giả sử bạn đã có DataFrame `data`\n",
    "data = pd.DataFrame({\n",
    "    'IPV4_SRC_ADDR': ['192.168.1.1', '192.168.1.2'],\n",
    "    'IPV4_DST_ADDR': ['192.168.1.3', '192.168.1.4'],\n",
    "    'PROTOCOL': ['TCP', 'UDP'],\n",
    "    'L7_PROTO': ['HTTP', 'DNS'],\n",
    "    'IN_BYTES': [100, 200],\n",
    "    'OUT_BYTES': [150, 250],\n",
    "    'IN_PKTS': [10, 20],\n",
    "    'OUT_PKTS': [15, 30],\n",
    "    'TCP_FLAGS': ['SYN', 'ACK'],\n",
    "    'FLOW_DURATION_MILLISECONDS': [1000, 2000],\n",
    "    'label': ['attack', 'normal']\n",
    "})\n",
    "\n",
    "# Tạo đồ thị NetworkX từ DataFrame\n",
    "G = nx.from_pandas_edgelist(\n",
    "    data,\n",
    "    source='IPV4_SRC_ADDR',\n",
    "    target='IPV4_DST_ADDR',\n",
    "    edge_attr=['PROTOCOL', 'L7_PROTO', 'IN_BYTES', 'OUT_BYTES', \n",
    "               'IN_PKTS', 'OUT_PKTS', 'TCP_FLAGS', 'FLOW_DURATION_MILLISECONDS', 'label'],\n",
    "    create_using=nx.MultiDiGraph()\n",
    ")\n",
    "\n",
    "# Chuyển đổi đồ thị NetworkX sang DGL\n",
    "dgl_graph = dgl.from_networkx(G)\n",
    "\n",
    "# Thêm thuộc tính cạnh vào đồ thị DGL\n",
    "for attr in ['PROTOCOL', 'L7_PROTO', 'IN_BYTES', 'OUT_BYTES', \n",
    "             'IN_PKTS', 'OUT_PKTS', 'TCP_FLAGS', 'FLOW_DURATION_MILLISECONDS', 'label']:\n",
    "    dgl_graph.edata[attr] = torch.tensor([data[attr].values for _, _, data in G.edges(data=True)])\n",
    "\n",
    "# Kiểm tra thông tin edata\n",
    "print(\"DGLGraph Edges:\", dgl_graph.edges())\n",
    "print(\"Edge Data Schemes:\", dgl_graph.edata)\n"
   ]
  },
  {
   "cell_type": "code",
   "execution_count": null,
   "metadata": {},
   "outputs": [],
   "source": []
  },
  {
   "cell_type": "code",
   "execution_count": null,
   "metadata": {},
   "outputs": [],
   "source": []
  },
  {
   "cell_type": "code",
   "execution_count": null,
   "metadata": {},
   "outputs": [],
   "source": []
  },
  {
   "cell_type": "code",
   "execution_count": null,
   "metadata": {},
   "outputs": [],
   "source": []
  },
  {
   "cell_type": "code",
   "execution_count": null,
   "metadata": {},
   "outputs": [],
   "source": [
    "m = {\n",
    "    'IPV4_SRC_ADDR': ['192.168.1.1'] * 10,  # Cùng địa chỉ nguồn\n",
    "    'IPV4_DST_ADDR': ['192.168.1.2'] * 10,  # Cùng địa chỉ đích\n",
    "    'PROTOCOL': ['TCP'] * 10,\n",
    "    'L7_PROTO': ['HTTP'] * 10,\n",
    "    'IN_BYTES': [1000, 1500, 2000, 2500, 3000, 3500, 4000, 4500, 5000, 5500],\n",
    "    'OUT_BYTES': [500, 600, 700, 800, 900, 1000, 1100, 1200, 1300, 1400],\n",
    "    'IN_PKTS': [10, 15, 20, 25, 30, 35, 40, 45, 50, 55],\n",
    "    'OUT_PKTS': [5, 6, 7, 8, 9, 10, 11, 12, 13, 14],\n",
    "    'TCP_FLAGS': ['SYN'] * 10,\n",
    "    'FLOW_DURATION_MILLISECONDS': [100, 200, 300, 400, 500, 600, 700, 800, 900, 1000],\n",
    "    'label': [0, 1, 0, 1, 0, 1, 0, 1, 0, 1]  # Label nhị phân\n",
    "}\n",
    "m = pd.DataFrame(m)"
   ]
  },
  {
   "cell_type": "code",
   "execution_count": null,
   "metadata": {},
   "outputs": [],
   "source": [
    "Gm = nx.from_pandas_edgelist(\n",
    "    m,\n",
    "    source='IPV4_SRC_ADDR',\n",
    "    target='IPV4_DST_ADDR',\n",
    "    edge_attr=['PROTOCOL', 'L7_PROTO', 'IN_BYTES', 'OUT_BYTES', \n",
    "                                'IN_PKTS', 'OUT_PKTS', 'TCP_FLAGS', 'FLOW_DURATION_MILLISECONDS', 'label'],\n",
    "    create_using=nx.MultiDiGraph()\n",
    ")"
   ]
  },
  {
   "cell_type": "code",
   "execution_count": null,
   "metadata": {},
   "outputs": [],
   "source": [
    "Gm.edges(data=True)"
   ]
  },
  {
   "cell_type": "code",
   "execution_count": null,
   "metadata": {},
   "outputs": [],
   "source": [
    "edges = Gm.get_edge_data('192.168.1.1', '192.168.1.2')\n",
    "\n",
    "# In ra thuộc tính của từng cạnh\n",
    "for key, attr in edges.items():\n",
    "    print(f\"Edge key: {key}, Attributes: {attr}\")"
   ]
  },
  {
   "cell_type": "code",
   "execution_count": null,
   "metadata": {},
   "outputs": [],
   "source": [
    "dgl_graph = dgl.from_networkx(Gm)\n",
    "print(\"DGLGraph Edges:\", dgl_graph)"
   ]
  }
 ],
 "metadata": {
  "kernelspec": {
   "display_name": ".venv",
   "language": "python",
   "name": "python3"
  },
  "language_info": {
   "codemirror_mode": {
    "name": "ipython",
    "version": 3
   },
   "file_extension": ".py",
   "mimetype": "text/x-python",
   "name": "python",
   "nbconvert_exporter": "python",
   "pygments_lexer": "ipython3",
   "version": "3.11.0"
  }
 },
 "nbformat": 4,
 "nbformat_minor": 2
}
