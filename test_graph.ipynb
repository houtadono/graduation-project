{
 "cells": [
  {
   "cell_type": "code",
   "execution_count": null,
   "metadata": {},
   "outputs": [],
   "source": []
  },
  {
   "cell_type": "code",
   "execution_count": 2,
   "metadata": {},
   "outputs": [
    {
     "ename": "AttributeError",
     "evalue": "'str' object has no attribute 'values'",
     "output_type": "error",
     "traceback": [
      "\u001b[1;31m---------------------------------------------------------------------------\u001b[0m",
      "\u001b[1;31mAttributeError\u001b[0m                            Traceback (most recent call last)",
      "Cell \u001b[1;32mIn[2], line 36\u001b[0m\n\u001b[0;32m     33\u001b[0m \u001b[38;5;66;03m# Thêm thuộc tính cạnh vào đồ thị DGL\u001b[39;00m\n\u001b[0;32m     34\u001b[0m \u001b[38;5;28;01mfor\u001b[39;00m attr \u001b[38;5;129;01min\u001b[39;00m [\u001b[38;5;124m'\u001b[39m\u001b[38;5;124mPROTOCOL\u001b[39m\u001b[38;5;124m'\u001b[39m, \u001b[38;5;124m'\u001b[39m\u001b[38;5;124mL7_PROTO\u001b[39m\u001b[38;5;124m'\u001b[39m, \u001b[38;5;124m'\u001b[39m\u001b[38;5;124mIN_BYTES\u001b[39m\u001b[38;5;124m'\u001b[39m, \u001b[38;5;124m'\u001b[39m\u001b[38;5;124mOUT_BYTES\u001b[39m\u001b[38;5;124m'\u001b[39m, \n\u001b[0;32m     35\u001b[0m              \u001b[38;5;124m'\u001b[39m\u001b[38;5;124mIN_PKTS\u001b[39m\u001b[38;5;124m'\u001b[39m, \u001b[38;5;124m'\u001b[39m\u001b[38;5;124mOUT_PKTS\u001b[39m\u001b[38;5;124m'\u001b[39m, \u001b[38;5;124m'\u001b[39m\u001b[38;5;124mTCP_FLAGS\u001b[39m\u001b[38;5;124m'\u001b[39m, \u001b[38;5;124m'\u001b[39m\u001b[38;5;124mFLOW_DURATION_MILLISECONDS\u001b[39m\u001b[38;5;124m'\u001b[39m, \u001b[38;5;124m'\u001b[39m\u001b[38;5;124mlabel\u001b[39m\u001b[38;5;124m'\u001b[39m]:\n\u001b[1;32m---> 36\u001b[0m     dgl_graph\u001b[38;5;241m.\u001b[39medata[attr] \u001b[38;5;241m=\u001b[39m torch\u001b[38;5;241m.\u001b[39mtensor(\u001b[43m[\u001b[49m\u001b[43mdata\u001b[49m\u001b[43m[\u001b[49m\u001b[43mattr\u001b[49m\u001b[43m]\u001b[49m\u001b[38;5;241;43m.\u001b[39;49m\u001b[43mvalues\u001b[49m\u001b[43m \u001b[49m\u001b[38;5;28;43;01mfor\u001b[39;49;00m\u001b[43m \u001b[49m\u001b[43m_\u001b[49m\u001b[43m,\u001b[49m\u001b[43m \u001b[49m\u001b[43m_\u001b[49m\u001b[43m,\u001b[49m\u001b[43m \u001b[49m\u001b[43mdata\u001b[49m\u001b[43m \u001b[49m\u001b[38;5;129;43;01min\u001b[39;49;00m\u001b[43m \u001b[49m\u001b[43mG\u001b[49m\u001b[38;5;241;43m.\u001b[39;49m\u001b[43medges\u001b[49m\u001b[43m(\u001b[49m\u001b[43mdata\u001b[49m\u001b[38;5;241;43m=\u001b[39;49m\u001b[38;5;28;43;01mTrue\u001b[39;49;00m\u001b[43m)\u001b[49m\u001b[43m]\u001b[49m)\n\u001b[0;32m     38\u001b[0m \u001b[38;5;66;03m# Kiểm tra thông tin edata\u001b[39;00m\n\u001b[0;32m     39\u001b[0m \u001b[38;5;28mprint\u001b[39m(\u001b[38;5;124m\"\u001b[39m\u001b[38;5;124mDGLGraph Edges:\u001b[39m\u001b[38;5;124m\"\u001b[39m, dgl_graph\u001b[38;5;241m.\u001b[39medges())\n",
      "Cell \u001b[1;32mIn[2], line 36\u001b[0m, in \u001b[0;36m<listcomp>\u001b[1;34m(.0)\u001b[0m\n\u001b[0;32m     33\u001b[0m \u001b[38;5;66;03m# Thêm thuộc tính cạnh vào đồ thị DGL\u001b[39;00m\n\u001b[0;32m     34\u001b[0m \u001b[38;5;28;01mfor\u001b[39;00m attr \u001b[38;5;129;01min\u001b[39;00m [\u001b[38;5;124m'\u001b[39m\u001b[38;5;124mPROTOCOL\u001b[39m\u001b[38;5;124m'\u001b[39m, \u001b[38;5;124m'\u001b[39m\u001b[38;5;124mL7_PROTO\u001b[39m\u001b[38;5;124m'\u001b[39m, \u001b[38;5;124m'\u001b[39m\u001b[38;5;124mIN_BYTES\u001b[39m\u001b[38;5;124m'\u001b[39m, \u001b[38;5;124m'\u001b[39m\u001b[38;5;124mOUT_BYTES\u001b[39m\u001b[38;5;124m'\u001b[39m, \n\u001b[0;32m     35\u001b[0m              \u001b[38;5;124m'\u001b[39m\u001b[38;5;124mIN_PKTS\u001b[39m\u001b[38;5;124m'\u001b[39m, \u001b[38;5;124m'\u001b[39m\u001b[38;5;124mOUT_PKTS\u001b[39m\u001b[38;5;124m'\u001b[39m, \u001b[38;5;124m'\u001b[39m\u001b[38;5;124mTCP_FLAGS\u001b[39m\u001b[38;5;124m'\u001b[39m, \u001b[38;5;124m'\u001b[39m\u001b[38;5;124mFLOW_DURATION_MILLISECONDS\u001b[39m\u001b[38;5;124m'\u001b[39m, \u001b[38;5;124m'\u001b[39m\u001b[38;5;124mlabel\u001b[39m\u001b[38;5;124m'\u001b[39m]:\n\u001b[1;32m---> 36\u001b[0m     dgl_graph\u001b[38;5;241m.\u001b[39medata[attr] \u001b[38;5;241m=\u001b[39m torch\u001b[38;5;241m.\u001b[39mtensor([\u001b[43mdata\u001b[49m\u001b[43m[\u001b[49m\u001b[43mattr\u001b[49m\u001b[43m]\u001b[49m\u001b[38;5;241;43m.\u001b[39;49m\u001b[43mvalues\u001b[49m \u001b[38;5;28;01mfor\u001b[39;00m _, _, data \u001b[38;5;129;01min\u001b[39;00m G\u001b[38;5;241m.\u001b[39medges(data\u001b[38;5;241m=\u001b[39m\u001b[38;5;28;01mTrue\u001b[39;00m)])\n\u001b[0;32m     38\u001b[0m \u001b[38;5;66;03m# Kiểm tra thông tin edata\u001b[39;00m\n\u001b[0;32m     39\u001b[0m \u001b[38;5;28mprint\u001b[39m(\u001b[38;5;124m\"\u001b[39m\u001b[38;5;124mDGLGraph Edges:\u001b[39m\u001b[38;5;124m\"\u001b[39m, dgl_graph\u001b[38;5;241m.\u001b[39medges())\n",
      "\u001b[1;31mAttributeError\u001b[0m: 'str' object has no attribute 'values'"
     ]
    }
   ],
   "source": [
    "import dgl\n",
    "import pandas as pd\n",
    "import networkx as nx\n",
    "import torch\n",
    "# Giả sử bạn đã có DataFrame `data`\n",
    "data = pd.DataFrame({\n",
    "    'IPV4_SRC_ADDR': ['192.168.1.1', '192.168.1.2'],\n",
    "    'IPV4_DST_ADDR': ['192.168.1.3', '192.168.1.4'],\n",
    "    'PROTOCOL': ['TCP', 'UDP'],\n",
    "    'L7_PROTO': ['HTTP', 'DNS'],\n",
    "    'IN_BYTES': [100, 200],\n",
    "    'OUT_BYTES': [150, 250],\n",
    "    'IN_PKTS': [10, 20],\n",
    "    'OUT_PKTS': [15, 30],\n",
    "    'TCP_FLAGS': ['SYN', 'ACK'],\n",
    "    'FLOW_DURATION_MILLISECONDS': [1000, 2000],\n",
    "    'label': ['attack', 'normal']\n",
    "})\n",
    "\n",
    "# Tạo đồ thị NetworkX từ DataFrame\n",
    "G = nx.from_pandas_edgelist(\n",
    "    data,\n",
    "    source='IPV4_SRC_ADDR',\n",
    "    target='IPV4_DST_ADDR',\n",
    "    edge_attr=['PROTOCOL', 'L7_PROTO', 'IN_BYTES', 'OUT_BYTES', \n",
    "               'IN_PKTS', 'OUT_PKTS', 'TCP_FLAGS', 'FLOW_DURATION_MILLISECONDS', 'label'],\n",
    "    create_using=nx.MultiDiGraph()\n",
    ")\n",
    "\n",
    "# Chuyển đổi đồ thị NetworkX sang DGL\n",
    "dgl_graph = dgl.from_networkx(G)\n",
    "\n",
    "# Thêm thuộc tính cạnh vào đồ thị DGL\n",
    "for attr in ['PROTOCOL', 'L7_PROTO', 'IN_BYTES', 'OUT_BYTES', \n",
    "             'IN_PKTS', 'OUT_PKTS', 'TCP_FLAGS', 'FLOW_DURATION_MILLISECONDS', 'label']:\n",
    "    dgl_graph.edata[attr] = torch.tensor([data[attr].values for _, _, data in G.edges(data=True)])\n",
    "\n",
    "# Kiểm tra thông tin edata\n",
    "print(\"DGLGraph Edges:\", dgl_graph.edges())\n",
    "print(\"Edge Data Schemes:\", dgl_graph.edata)\n"
   ]
  },
  {
   "cell_type": "code",
   "execution_count": null,
   "metadata": {},
   "outputs": [],
   "source": []
  },
  {
   "cell_type": "code",
   "execution_count": null,
   "metadata": {},
   "outputs": [],
   "source": []
  },
  {
   "cell_type": "code",
   "execution_count": null,
   "metadata": {},
   "outputs": [],
   "source": []
  },
  {
   "cell_type": "code",
   "execution_count": null,
   "metadata": {},
   "outputs": [],
   "source": []
  },
  {
   "cell_type": "code",
   "execution_count": null,
   "metadata": {},
   "outputs": [],
   "source": [
    "m = {\n",
    "    'IPV4_SRC_ADDR': ['192.168.1.1'] * 10,  # Cùng địa chỉ nguồn\n",
    "    'IPV4_DST_ADDR': ['192.168.1.2'] * 10,  # Cùng địa chỉ đích\n",
    "    'PROTOCOL': ['TCP'] * 10,\n",
    "    'L7_PROTO': ['HTTP'] * 10,\n",
    "    'IN_BYTES': [1000, 1500, 2000, 2500, 3000, 3500, 4000, 4500, 5000, 5500],\n",
    "    'OUT_BYTES': [500, 600, 700, 800, 900, 1000, 1100, 1200, 1300, 1400],\n",
    "    'IN_PKTS': [10, 15, 20, 25, 30, 35, 40, 45, 50, 55],\n",
    "    'OUT_PKTS': [5, 6, 7, 8, 9, 10, 11, 12, 13, 14],\n",
    "    'TCP_FLAGS': ['SYN'] * 10,\n",
    "    'FLOW_DURATION_MILLISECONDS': [100, 200, 300, 400, 500, 600, 700, 800, 900, 1000],\n",
    "    'label': [0, 1, 0, 1, 0, 1, 0, 1, 0, 1]  # Label nhị phân\n",
    "}\n",
    "m = pd.DataFrame(m)"
   ]
  },
  {
   "cell_type": "code",
   "execution_count": null,
   "metadata": {},
   "outputs": [],
   "source": [
    "Gm = nx.from_pandas_edgelist(\n",
    "    m,\n",
    "    source='IPV4_SRC_ADDR',\n",
    "    target='IPV4_DST_ADDR',\n",
    "    edge_attr=['PROTOCOL', 'L7_PROTO', 'IN_BYTES', 'OUT_BYTES', \n",
    "                                'IN_PKTS', 'OUT_PKTS', 'TCP_FLAGS', 'FLOW_DURATION_MILLISECONDS', 'label'],\n",
    "    create_using=nx.MultiDiGraph()\n",
    ")"
   ]
  },
  {
   "cell_type": "code",
   "execution_count": null,
   "metadata": {},
   "outputs": [],
   "source": [
    "Gm.edges(data=True)"
   ]
  },
  {
   "cell_type": "code",
   "execution_count": null,
   "metadata": {},
   "outputs": [],
   "source": [
    "edges = Gm.get_edge_data('192.168.1.1', '192.168.1.2')\n",
    "\n",
    "# In ra thuộc tính của từng cạnh\n",
    "for key, attr in edges.items():\n",
    "    print(f\"Edge key: {key}, Attributes: {attr}\")"
   ]
  },
  {
   "cell_type": "code",
   "execution_count": null,
   "metadata": {},
   "outputs": [],
   "source": [
    "dgl_graph = dgl.from_networkx(Gm)\n",
    "print(\"DGLGraph Edges:\", dgl_graph)"
   ]
  }
 ],
 "metadata": {
  "kernelspec": {
   "display_name": ".venv",
   "language": "python",
   "name": "python3"
  },
  "language_info": {
   "codemirror_mode": {
    "name": "ipython",
    "version": 3
   },
   "file_extension": ".py",
   "mimetype": "text/x-python",
   "name": "python",
   "nbconvert_exporter": "python",
   "pygments_lexer": "ipython3",
   "version": "3.11.0"
  }
 },
 "nbformat": 4,
 "nbformat_minor": 2
}
